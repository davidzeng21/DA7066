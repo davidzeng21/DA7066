{
 "cells": [
  {
   "cell_type": "code",
   "execution_count": null,
   "metadata": {},
   "outputs": [],
   "source": [
    "def divide_list(l,x):\n",
    "    if type(x) != int or type(x) != float:\n",
    "        return 11\n",
    "    elif x == 0:\n",
    "        return -1\n",
    "    else:\n",
    "        # check that elements in list are integers\n",
    "        if not all([ type(item) == int for item in l]):\n",
    "            return 12\n",
    "        for i in range(len(l)):\n",
    "            l[i] = l[i]/x # we are modifying the list items here\n",
    "        return 0\n",
    "\n",
    "return_code = divide_list(l,x)\n",
    "if return_code == -1:\n",
    "    # do something\n",
    "elif return_code == 11:\n",
    "    # do something else...\n",
    "elif return_code == 12:\n",
    "# do something else...\n",
    "elif return_code == 0:\n",
    "# good!"
   ]
  },
  {
   "cell_type": "markdown",
   "metadata": {},
   "source": [
    "### 6.1.2 Exceptions"
   ]
  },
  {
   "cell_type": "code",
   "execution_count": null,
   "metadata": {},
   "outputs": [],
   "source": [
    "try:\n",
    "    # unsafe code\n",
    "    ...\n",
    "except:\n",
    "    # action\n",
    "    ...\n",
    "# Rest of the code"
   ]
  },
  {
   "cell_type": "code",
   "execution_count": 1,
   "metadata": {},
   "outputs": [
    {
     "name": "stdout",
     "output_type": "stream",
     "text": [
      "The square of the number is: 144\n",
      "Bye bye!\n"
     ]
    }
   ],
   "source": [
    "while True:\n",
    "    answer = input(\"Write a number (write 0 to quit): \")\n",
    "    x = int(answer)\n",
    "    if x == 0:\n",
    "        print(\"Bye bye!\")\n",
    "        break\n",
    "    else:\n",
    "        print(\"The square of the number is: \" + str(x ** 2))"
   ]
  },
  {
   "cell_type": "code",
   "execution_count": 2,
   "metadata": {},
   "outputs": [
    {
     "name": "stdout",
     "output_type": "stream",
     "text": [
      "You did not write a number. Try again.\n",
      "You did not write a number. Try again.\n",
      "You did not write a number. Try again.\n",
      "You did not write a number. Try again.\n",
      "The square of the number is: 1\n",
      "The square of the number is: 1\n",
      "The square of the number is: 1\n",
      "You did not write a number. Try again.\n",
      "The square of the number is: 4\n",
      "The square of the number is: 4\n",
      "The square of the number is: 1046004964\n",
      "Bye bye!\n"
     ]
    }
   ],
   "source": [
    "while True:\n",
    "    try:\n",
    "        answer = input(\"Write a number (write 0 to quit): \")\n",
    "        x = int(answer)\n",
    "        if x == 0:\n",
    "            print(\"Bye bye!\")\n",
    "            break\n",
    "        else:\n",
    "            print(\"The square of the number is: \" + str(x ** 2))\n",
    "    except ValueError:\n",
    "        print(\"You did not write a number. Try again.\")"
   ]
  },
  {
   "cell_type": "markdown",
   "metadata": {},
   "source": [
    "We can also catch *all* errors by using an unqualified `except`:"
   ]
  },
  {
   "cell_type": "markdown",
   "metadata": {},
   "source": [
    "In order that the code be predictable and clear, however, one should write as little code within the `try`-block as possible. For example, we can move the `if`-statement in the code above out of the `try`-block like so, making it clearer where we expect an exception might be raised:"
   ]
  },
  {
   "cell_type": "code",
   "execution_count": null,
   "metadata": {},
   "outputs": [],
   "source": [
    "while True:\n",
    "    answer = input(\"Write a number (write 0 to quit): \")\n",
    "    try:\n",
    "        x = int(answer)\n",
    "    except ValueError:\n",
    "        print(\"You did not write a number. Try again.\")\n",
    "        continue\n",
    "    \n",
    "    if x == 0:\n",
    "        print(\"Bye bye!\")\n",
    "        break\n",
    "    else:\n",
    "        print(\"The square of the number is: \" + str(x ** 2))"
   ]
  },
  {
   "cell_type": "code",
   "execution_count": 5,
   "metadata": {},
   "outputs": [
    {
     "name": "stdout",
     "output_type": "stream",
     "text": [
      "Could not open file foo.txt for reading.\n"
     ]
    }
   ],
   "source": [
    "def len_file(filename):\n",
    "    try:\n",
    "        with open(filename, 'r') as h:\n",
    "            for s in h:\n",
    "                print(len(s))\n",
    "    except FileNotFoundError:\n",
    "        print(f\"Could not open file {filename} for reading.\")\n",
    "len_file('foo.txt')"
   ]
  },
  {
   "cell_type": "markdown",
   "metadata": {},
   "source": [
    "#### 6.1.2.3 Different actions for different exceptions"
   ]
  },
  {
   "cell_type": "code",
   "execution_count": 9,
   "metadata": {},
   "outputs": [
    {
     "name": "stdout",
     "output_type": "stream",
     "text": [
      "divide_by_elems: Division by zero.\n"
     ]
    },
    {
     "ename": "NameError",
     "evalue": "name 'data' is not defined",
     "output_type": "error",
     "traceback": [
      "\u001b[1;31m---------------------------------------------------------------------------\u001b[0m",
      "\u001b[1;31mNameError\u001b[0m                                 Traceback (most recent call last)",
      "Cell \u001b[1;32mIn[9], line 18\u001b[0m\n\u001b[0;32m     15\u001b[0m \u001b[38;5;28;01mexcept\u001b[39;00m \u001b[38;5;167;01mValueError\u001b[39;00m:\n\u001b[0;32m     16\u001b[0m     \u001b[38;5;28mprint\u001b[39m(\u001b[38;5;124m\"\u001b[39m\u001b[38;5;124mdivide_by_elems: Character could not be converted to integer.\u001b[39m\u001b[38;5;124m\"\u001b[39m)\n\u001b[1;32m---> 18\u001b[0m \u001b[38;5;28mprint\u001b[39m(\u001b[43mdata\u001b[49m)\n",
      "\u001b[1;31mNameError\u001b[0m: name 'data' is not defined"
     ]
    }
   ],
   "source": [
    "def divide_by_elems(filename, x):\n",
    "    quotients = []\n",
    "    with open(filename, 'r') as h:\n",
    "        for n in h:\n",
    "            frac = x / int(n)\n",
    "            quotients.append(frac)\n",
    "    return quotients\n",
    "\n",
    "try:\n",
    "    data = divide_by_elems('numbers.txt', 2)\n",
    "except IOError:\n",
    "    print(\"divide_by_elems: A file-related problem occurred.\")\n",
    "except ZeroDivisionError:\n",
    "    print(\"divide_by_elems: Division by zero.\")\n",
    "except ValueError:\n",
    "    print(\"divide_by_elems: Character could not be converted to integer.\")\n",
    "\n",
    "print(data)"
   ]
  },
  {
   "cell_type": "code",
   "execution_count": null,
   "metadata": {},
   "outputs": [],
   "source": [
    "numbers = [1, 2, 0, 4, 3, 0]  # Example list of numbers\n",
    "with open('numbers.txt', 'w') as f:\n",
    "    for number in numbers:\n",
    "        f.write(f\"{number}\\n\")"
   ]
  },
  {
   "cell_type": "markdown",
   "metadata": {},
   "source": [
    "#### 6.1.2.4 Exceptions for control flow"
   ]
  },
  {
   "cell_type": "code",
   "execution_count": 10,
   "metadata": {},
   "outputs": [
    {
     "name": "stdout",
     "output_type": "stream",
     "text": [
      "[1.0, nan, 0.8]\n",
      "[1.0, nan, 0.8]\n"
     ]
    }
   ],
   "source": [
    "def compute_ratios(xs,ys):\n",
    "    ratios = []\n",
    "    for i in range(min(len(xs),len(ys))):\n",
    "        try:\n",
    "            ratios.append(xs[i]/ys[i])\n",
    "        except ZeroDivisionError:\n",
    "            ratios.append(float('NaN')) # NaN = Not a Number\n",
    "    return ratios\n",
    "\n",
    "print(compute_ratios([2,3,4],[2,0,5]))\n",
    "print(compute_ratios([2,3,4,0],[2,0,5]))"
   ]
  },
  {
   "cell_type": "markdown",
   "metadata": {},
   "source": [
    "In this case, we could have equally well used an `if`-statement and tested if $ys[i] == 0$. We’ll say more on this later."
   ]
  },
  {
   "cell_type": "code",
   "execution_count": 12,
   "metadata": {},
   "outputs": [
    {
     "name": "stdout",
     "output_type": "stream",
     "text": [
      "head: input list is empty\n"
     ]
    },
    {
     "ename": "Exception",
     "evalue": "head: input list is empty",
     "output_type": "error",
     "traceback": [
      "\u001b[1;31m---------------------------------------------------------------------------\u001b[0m",
      "\u001b[1;31mException\u001b[0m                                 Traceback (most recent call last)",
      "Cell \u001b[1;32mIn[12], line 12\u001b[0m\n\u001b[0;32m      9\u001b[0m \u001b[38;5;28;01mexcept\u001b[39;00m \u001b[38;5;167;01mException\u001b[39;00m \u001b[38;5;28;01mas\u001b[39;00m e:\n\u001b[0;32m     10\u001b[0m     \u001b[38;5;28mprint\u001b[39m(\u001b[38;5;28mstr\u001b[39m(e))\n\u001b[1;32m---> 12\u001b[0m \u001b[38;5;28mprint\u001b[39m(\u001b[43mhead\u001b[49m\u001b[43m(\u001b[49m\u001b[43m[\u001b[49m\u001b[43m]\u001b[49m\u001b[43m)\u001b[49m)\n",
      "Cell \u001b[1;32mIn[12], line 3\u001b[0m, in \u001b[0;36mhead\u001b[1;34m(xs)\u001b[0m\n\u001b[0;32m      1\u001b[0m \u001b[38;5;28;01mdef\u001b[39;00m \u001b[38;5;21mhead\u001b[39m(xs):\n\u001b[0;32m      2\u001b[0m     \u001b[38;5;28;01mif\u001b[39;00m \u001b[38;5;129;01mnot\u001b[39;00m xs:\n\u001b[1;32m----> 3\u001b[0m         \u001b[38;5;28;01mraise\u001b[39;00m \u001b[38;5;167;01mException\u001b[39;00m(\u001b[38;5;124m\"\u001b[39m\u001b[38;5;124mhead: input list is empty\u001b[39m\u001b[38;5;124m\"\u001b[39m)\n\u001b[0;32m      4\u001b[0m     \u001b[38;5;28;01melse\u001b[39;00m:\n\u001b[0;32m      5\u001b[0m         \u001b[38;5;28;01mreturn\u001b[39;00m xs[\u001b[38;5;241m0\u001b[39m]\n",
      "\u001b[1;31mException\u001b[0m: head: input list is empty"
     ]
    }
   ],
   "source": [
    "def head(xs):\n",
    "    if not xs:\n",
    "        raise Exception(\"head: input list is empty\")\n",
    "    else:\n",
    "        return xs[0]\n",
    "    \n",
    "try:\n",
    "    print(head([]))\n",
    "except Exception as e:\n",
    "    print(str(e))\n",
    "\n",
    "print(head([]))"
   ]
  },
  {
   "cell_type": "markdown",
   "metadata": {},
   "source": [
    "#### 6.1.6.2 Overuse"
   ]
  },
  {
   "cell_type": "code",
   "execution_count": null,
   "metadata": {},
   "outputs": [],
   "source": [
    "data = {1 : \"Make bed\",\n",
    "        2 : \"Shower\",\n",
    "        4 : \"Eat breakfast\"}\n",
    "selected = [1,3,2]\n",
    "\n",
    "d = {}\n",
    "for e in selected:\n",
    "    try:\n",
    "        d[e] = perform_task(data[e])\n",
    "    except KeyError:\n",
    "print() # Bad line of code!"
   ]
  },
  {
   "cell_type": "code",
   "execution_count": null,
   "metadata": {},
   "outputs": [],
   "source": [
    "valid_selected = [e for e in selected if e in data]\n",
    "new_dict = {e: data[e] for e in valid_selected}"
   ]
  },
  {
   "cell_type": "code",
   "execution_count": null,
   "metadata": {},
   "outputs": [],
   "source": [
    "for e in selected:\n",
    "    if e in data:\n",
    "        d[e] = perform_task(data[e])\n",
    "    else:\n",
    "        print(f\"Key {e} not found in data.\")"
   ]
  },
  {
   "cell_type": "markdown",
   "metadata": {},
   "source": [
    "## 6.2 Exercises"
   ]
  },
  {
   "cell_type": "markdown",
   "metadata": {},
   "source": [
    "1. What happens if we call the `function divide_by_elements` (the function given in section 6.1.2.3)\n",
    "with a string as the argument to `x`? If the string can be converted to an integer, let us say the\n",
    "function should continue without crashing; otherwise it should return `None`. Achieve this behavior\n",
    "with the help of try and except."
   ]
  },
  {
   "cell_type": "code",
   "execution_count": null,
   "metadata": {},
   "outputs": [],
   "source": [
    "def divide_by_elems(filename, x):\n",
    "    quotients = []\n",
    "    with open(filename, 'r') as h:\n",
    "        for n in h:\n",
    "            frac = x / int(n)\n",
    "            quotients.append(frac)\n",
    "    return quotients\n",
    "\n",
    "try:\n",
    "    data = divide_by_elems('numbers.txt', 2)\n",
    "except IOError:\n",
    "    print(\"divide_by_elems: A file-related problem occurred.\")\n",
    "except ZeroDivisionError:\n",
    "    print(\"divide_by_elems: Division by zero.\")\n",
    "except ValueError:\n",
    "    print(\"divide_by_elems: Character could not be converted to integer.\")\n",
    "\n",
    "print(data)"
   ]
  },
  {
   "cell_type": "code",
   "execution_count": null,
   "metadata": {},
   "outputs": [],
   "source": [
    "def divide_by_elems(filename, x):\n",
    "    try:\n",
    "        x = int(x)\n",
    "    except ValueError:\n",
<<<<<<< HEAD
    "        print(\"divide_by_elems:\",\"Second argument cannot be interpreted as an integer.\")\n",
=======
>>>>>>> 0c382a3279ab67b37908199afd4e88e1416545f3
    "        return None\n",
    "    \n",
    "    quotients = []\n",
    "    with open(filename, 'r') as h:\n",
    "        for n in h:\n",
    "            frac = x / int(n)\n",
    "            quotients.append(frac)\n",
    "    return quotients\n",
    "\n",
    "try:\n",
    "    data = divide_by_elems('numbers.txt', '2')\n",
    "except IOError:\n",
    "    print(\"divide_by_elems: A file-related problem occurred.\")\n",
    "except ZeroDivisionError:\n",
    "    print(\"divide_by_elems: Division by zero.\")\n",
    "except ValueError:\n",
    "    print(\"divide_by_elems: Character could not be converted to integer.\")\n",
    "\n",
    "print(data)"
   ]
  },
  {
   "cell_type": "code",
   "execution_count": null,
   "metadata": {},
   "outputs": [],
   "source": [
    "def divide_by_elems(filename, x):\n",
    "    try:\n",
    "        x = int(x)\n",
    "    except ValueError:\n",
<<<<<<< HEAD
    "        print(\"divide_by_elems:\",\"Second argument cannot be interpreted as an integer.\")\n",
    "        return None\n",
    "    \n",
    "    quotients = []\n",
    "    try:\n",
    "        h = open(filename, 'r')\n",
    "    except IOError:\n",
    "        print(\"divide_by_elems: A file-related problem occurred.\")\n",
    "    \n",
    "    for n in h:\n",
    "        try:\n",
    "            frac = x / int(n)\n",
    "            quotients.append(frac)\n",
    "        except ZeroDivisionError:\n",
    "            print(\"divide_by_elems: Division by zero.\")\n",
    "        except ValueError:\n",
    "            print(\"divide_by_elems: Character could not be converted to integer.\")\n",
    "    h.close()\n",
    "    return quotients\n",
    "\n",
    "data = divide_by_elems('numbers.txt', 2)\n",
    "print(data)"
=======
    "        return None\n",
    "    \n",
    "    quotients = []\n",
    "    h = open(filename, 'r')\n",
    "    for n in h:\n",
    "        frac = x / int(n)\n",
    "        quotients.append(frac)\n",
    "    h.close()\n",
    "\n",
    "    return quotients"
>>>>>>> 0c382a3279ab67b37908199afd4e88e1416545f3
   ]
  }
 ],
 "metadata": {
  "kernelspec": {
   "display_name": "example",
   "language": "python",
   "name": "python3"
  },
  "language_info": {
   "codemirror_mode": {
    "name": "ipython",
    "version": 3
   },
   "file_extension": ".py",
   "mimetype": "text/x-python",
   "name": "python",
   "nbconvert_exporter": "python",
   "pygments_lexer": "ipython3",
   "version": "3.10.8"
  }
 },
 "nbformat": 4,
 "nbformat_minor": 2
}
