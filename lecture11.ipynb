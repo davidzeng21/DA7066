{
 "cells": [
  {
   "cell_type": "code",
   "execution_count": 4,
   "metadata": {},
   "outputs": [
    {
     "name": "stdout",
     "output_type": "stream",
     "text": [
      "[1, 4, 3]\n"
     ]
    }
   ],
   "source": [
    "l = [1,2,3]\n",
    "if len(l) > 2:\n",
    "    l[-2] = 2*l[-2]\n",
    "else:\n",
    "    l.append(1)\n",
    "print(l)\n"
   ]
  },
  {
   "cell_type": "code",
   "execution_count": 9,
   "metadata": {},
   "outputs": [
    {
     "name": "stdout",
     "output_type": "stream",
     "text": [
      "x printed from inside foo: 2\n",
      "x printed from outside foo: 10\n"
     ]
    }
   ],
   "source": [
    "x = 10\n",
    "def foo(x=1):\n",
    "    x = 2\n",
    "    print(\"x printed from inside foo:\", x)\n",
    "foo()\n",
    "print(\"x printed from outside foo:\", x)"
   ]
  },
  {
   "cell_type": "code",
   "execution_count": 11,
   "metadata": {},
   "outputs": [
    {
     "name": "stdout",
     "output_type": "stream",
     "text": [
      "local x: 12\n",
      "global x: 5\n"
     ]
    }
   ],
   "source": [
    "x = 5\n",
    "def foo(x):\n",
    "    print(\"local x:\", x) # 局部变量\n",
    "foo(12) # 局部变量\n",
    "print(\"global x:\", x) # 全局变量\n",
    "\n"
   ]
  },
  {
   "cell_type": "code",
   "execution_count": 14,
   "metadata": {},
   "outputs": [
    {
     "name": "stdout",
     "output_type": "stream",
     "text": [
      "h\n",
      "e\n",
      "l\n",
      "l\n",
      "o\n",
      "0\n",
      "1\n",
      "2\n",
      "3\n",
      "4\n",
      "5\n",
      "6\n",
      "7\n",
      "8\n",
      "9\n",
      "hi\n",
      "how\n",
      "are\n",
      "you\n"
     ]
    }
   ],
   "source": [
    "for c in 'hello':\n",
    "    print(c)\n",
    "for i in range(10):\n",
    "    print(i)\n",
    "for i in ['hi', 'how', 'are', 'you']:\n",
    "    print(i)\n",
    "\n"
   ]
  },
  {
   "cell_type": "code",
   "execution_count": 15,
   "metadata": {},
   "outputs": [
    {
     "name": "stdout",
     "output_type": "stream",
     "text": [
      "The square of the number is: 1\n",
      "The square of the number is: 4\n",
      "The square of the number is: 9\n",
      "The square of the number is: 16\n",
      "The square of the number is: 25\n",
      "You must write a number!\n",
      "Bye bye!\n"
     ]
    }
   ],
   "source": [
    "while True:\n",
    "    svar = input(\"Write a number (write 0 to quit): \")\n",
    "    try:\n",
    "        x = int(svar)\n",
    "    except ValueError:\n",
    "        print(\"You must write a number!\")\n",
    "        continue\n",
    "    if x == 0:\n",
    "        print(\"Bye bye!\")\n",
    "        break\n",
    "    else:\n",
    "        print(\"The square of the number is: \" + str(x ** 2))"
   ]
  },
  {
   "cell_type": "code",
   "execution_count": 16,
   "metadata": {},
   "outputs": [],
   "source": [
    "def head(xs):\n",
    "    if xs == []:\n",
    "        raise Exception(\"head: input list is empty\")\n",
    "    else:\n",
    "        return xs[0]\n"
   ]
  },
  {
   "cell_type": "code",
   "execution_count": 21,
   "metadata": {},
   "outputs": [
    {
     "name": "stdout",
     "output_type": "stream",
     "text": [
      "4127\n",
      "RSPY\n",
      "DAZ\n",
      "VZY\n",
      "12\n",
      "RSPY 4127\n",
      "DAZ 4098\n",
      "VZY 341\n",
      "12 exp_1\n",
      "RSPY\n",
      "DAZ\n",
      "VZY\n",
      "12\n",
      "4127\n",
      "4098\n",
      "341\n",
      "exp_1\n"
     ]
    }
   ],
   "source": [
    "test = {'RSPY': 4127, 'DAZ': 4098, 'VZY': 4139, 12: 'exp_1'}\n",
    "\n",
    "print(test['RSPY'])\n",
    "\n",
    "\n",
    "test['VZY'] = 341\n",
    "\n",
    "for k in test: # or test.keys(), test.values(), test.items()\n",
    "    print(k)\n",
    "\n",
    "for k, v in test.items():\n",
    "    print(k, v)\n",
    "\n",
    "for k in test.keys():\n",
    "    print(k)\n",
    "\n",
    "for v in test.values():\n",
    "    print(v)\n",
    "\n",
    "\n",
    "\n",
    "\n",
    "\n",
    "\n",
    "\n",
    "\n"
   ]
  }
 ],
 "metadata": {
  "kernelspec": {
   "display_name": "example",
   "language": "python",
   "name": "python3"
  },
  "language_info": {
   "codemirror_mode": {
    "name": "ipython",
    "version": 3
   },
   "file_extension": ".py",
   "mimetype": "text/x-python",
   "name": "python",
   "nbconvert_exporter": "python",
   "pygments_lexer": "ipython3",
   "version": "3.10.8"
  }
 },
 "nbformat": 4,
 "nbformat_minor": 2
}
