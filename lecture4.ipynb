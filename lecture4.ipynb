{
 "cells": [
  {
   "cell_type": "markdown",
   "metadata": {},
   "source": [
    "## 4.1 Dictionaries"
   ]
  },
  {
   "cell_type": "code",
   "execution_count": 1,
   "metadata": {},
   "outputs": [],
   "source": [
    "hp1 = dict(DA7066=7.5, MM2001=30)\n",
    "hp2 = {'DA7066': 7.5, 'MM2001': 30}"
   ]
  },
  {
   "cell_type": "code",
   "execution_count": 4,
   "metadata": {},
   "outputs": [
    {
     "data": {
      "text/plain": [
       "True"
      ]
     },
     "execution_count": 4,
     "metadata": {},
     "output_type": "execute_result"
    }
   ],
   "source": [
    "hp1 == hp2\n"
   ]
  },
  {
   "cell_type": "code",
   "execution_count": 5,
   "metadata": {},
   "outputs": [
    {
     "name": "stdout",
     "output_type": "stream",
     "text": [
      "Number of ECTS points for DA7066: 7.5\n"
     ]
    }
   ],
   "source": [
    "print('Number of ECTS points for DA7066: ' + str(hp1['DA7066']))"
   ]
  },
  {
   "cell_type": "code",
   "execution_count": 9,
   "metadata": {},
   "outputs": [
    {
     "name": "stdout",
     "output_type": "stream",
     "text": [
      "Number of ECTS points for DA7066: 7.5\n",
      "Number of ECTS points for DA7066: 7.5\n",
      "Number of ECTS points for MM2001: 30\n",
      "Number of ECTS points for MM2001: 30\n"
     ]
    }
   ],
   "source": [
    "DA7066 = 33\n",
    "MM2001 = 'hello'\n",
    "hp3 = {DA7066: 7.5, MM2001: 30}\n",
    "print('Number of ECTS points for DA7066: ' + str(hp3[DA7066]))\n",
    "print('Number of ECTS points for DA7066: ' + str(hp3[33]))\n",
    "print('Number of ECTS points for MM2001: ' + str(hp3[MM2001]))\n",
    "print('Number of ECTS points for MM2001: ' + str(hp3['hello']))"
   ]
  },
  {
   "cell_type": "code",
   "execution_count": 10,
   "metadata": {},
   "outputs": [
    {
     "ename": "KeyError",
     "evalue": "'MM2001'",
     "output_type": "error",
     "traceback": [
      "\u001b[1;31m---------------------------------------------------------------------------\u001b[0m",
      "\u001b[1;31mKeyError\u001b[0m                                  Traceback (most recent call last)",
      "Cell \u001b[1;32mIn[10], line 1\u001b[0m\n\u001b[1;32m----> 1\u001b[0m \u001b[38;5;28mprint\u001b[39m(\u001b[38;5;124m'\u001b[39m\u001b[38;5;124mNumber of ECTS points for MM2001: \u001b[39m\u001b[38;5;124m'\u001b[39m \u001b[38;5;241m+\u001b[39m \u001b[38;5;28mstr\u001b[39m(\u001b[43mhp3\u001b[49m\u001b[43m[\u001b[49m\u001b[38;5;124;43m'\u001b[39;49m\u001b[38;5;124;43mMM2001\u001b[39;49m\u001b[38;5;124;43m'\u001b[39;49m\u001b[43m]\u001b[49m))\n",
      "\u001b[1;31mKeyError\u001b[0m: 'MM2001'"
     ]
    }
   ],
   "source": [
    "print('Number of ECTS points for MM2001: ' + str(hp3['MM2001']))"
   ]
  },
  {
   "cell_type": "code",
   "execution_count": 11,
   "metadata": {},
   "outputs": [
    {
     "name": "stdout",
     "output_type": "stream",
     "text": [
      "([1, 2, 3], [3, 2, 1])\n"
     ]
    }
   ],
   "source": [
    "t = (12345, 54321, 'hello!') # immutable\n",
    "t2 = ([1, 2, 3], [3, 2, 1]) # mutable\n",
    "print(t2)"
   ]
  },
  {
   "cell_type": "code",
   "execution_count": 12,
   "metadata": {},
   "outputs": [
    {
     "ename": "TypeError",
     "evalue": "unhashable type: 'list'",
     "output_type": "error",
     "traceback": [
      "\u001b[1;31m---------------------------------------------------------------------------\u001b[0m",
      "\u001b[1;31mTypeError\u001b[0m                                 Traceback (most recent call last)",
      "Cell \u001b[1;32mIn[12], line 2\u001b[0m\n\u001b[0;32m      1\u001b[0m d \u001b[38;5;241m=\u001b[39m {t: \u001b[38;5;124m'\u001b[39m\u001b[38;5;124mhello\u001b[39m\u001b[38;5;124m'\u001b[39m} \u001b[38;5;66;03m# works\u001b[39;00m\n\u001b[1;32m----> 2\u001b[0m d2 \u001b[38;5;241m=\u001b[39m {t2: \u001b[38;5;124m'\u001b[39m\u001b[38;5;124mgoodbye\u001b[39m\u001b[38;5;124m'\u001b[39m}\n",
      "\u001b[1;31mTypeError\u001b[0m: unhashable type: 'list'"
     ]
    }
   ],
   "source": [
    "d = {t: 'hello'} # works\n",
    "d2 = {t2: 'goodbye'} # TypeError: unhashable type: 'list'"
   ]
  },
  {
   "cell_type": "code",
   "execution_count": 13,
   "metadata": {},
   "outputs": [
    {
     "name": "stdout",
     "output_type": "stream",
     "text": [
      "{}\n",
      "{}\n"
     ]
    }
   ],
   "source": [
    "empty = {}\n",
    "print(empty)\n",
    "print(dict())"
   ]
  },
  {
   "cell_type": "code",
   "execution_count": 14,
   "metadata": {},
   "outputs": [
    {
     "name": "stdout",
     "output_type": "stream",
     "text": [
      "{'hopp': 4127, 'foo': 4098, 'hej': 4139, 12: 'hej'}\n",
      "{'hej': 4139, 'hopp': 4127, 'foo': 4098}\n"
     ]
    }
   ],
   "source": [
    "test1 = {'hopp': 4127, 'foo': 4098, 'hej': 4139, 12: 'hej'}\n",
    "test2 = dict([('hej', 4139), ('hopp', 4127), ('foo', 4098)])\n",
    "print(test1)\n",
    "print(test2)"
   ]
  },
  {
   "cell_type": "code",
   "execution_count": 1,
   "metadata": {},
   "outputs": [
    {
     "name": "stdout",
     "output_type": "stream",
     "text": [
      "7\n"
     ]
    }
   ],
   "source": [
    "hp = {}\n",
    "hp['DA7066'] = 7\n",
    "print(hp['DA7066'])"
   ]
  },
  {
   "cell_type": "code",
   "execution_count": 2,
   "metadata": {},
   "outputs": [
    {
     "name": "stdout",
     "output_type": "stream",
     "text": [
      "7.5\n"
     ]
    }
   ],
   "source": [
    "hp['DA7066'] += 0.5\n",
    "print(hp['DA7066'])"
   ]
  },
  {
   "cell_type": "code",
   "execution_count": 3,
   "metadata": {},
   "outputs": [
    {
     "name": "stdout",
     "output_type": "stream",
     "text": [
      "{'DA7066': 7.5, 'MM2001': 30, 'UG1001': 1}\n",
      "{'DA7066': 7.5, 'MM2001': 30}\n"
     ]
    }
   ],
   "source": [
    "hp['MM2001'] = 30\n",
    "hp['UG1001'] = 1\n",
    "print(hp)\n",
    "del hp['UG1001']\n",
    "print(hp)"
   ]
  },
  {
   "cell_type": "code",
   "execution_count": 5,
   "metadata": {},
   "outputs": [
    {
     "name": "stdout",
     "output_type": "stream",
     "text": [
      "DA7066\n",
      "MM2001\n"
     ]
    }
   ],
   "source": [
    "for key in hp:\n",
    "    print(key)"
   ]
  },
  {
   "cell_type": "code",
   "execution_count": 6,
   "metadata": {},
   "outputs": [
    {
     "name": "stdout",
     "output_type": "stream",
     "text": [
      "DA7066\n",
      "MM2001\n"
     ]
    }
   ],
   "source": [
    "for key in hp.keys():\n",
    "    print(key)"
   ]
  },
  {
   "cell_type": "code",
   "execution_count": 7,
   "metadata": {},
   "outputs": [
    {
     "name": "stdout",
     "output_type": "stream",
     "text": [
      "7.5\n",
      "30\n"
     ]
    }
   ],
   "source": [
    "for val in hp.values():\n",
    "    print(val)"
   ]
  },
  {
   "cell_type": "code",
   "execution_count": 8,
   "metadata": {},
   "outputs": [
    {
     "name": "stdout",
     "output_type": "stream",
     "text": [
      "Number of ECTS points for DA7066: 7.5\n",
      "Number of ECTS points for MM2001: 30\n"
     ]
    }
   ],
   "source": [
    "for key, val in hp.items():\n",
    "    print('Number of ECTS points for ' + key + ': ' + str(val))"
   ]
  },
  {
   "cell_type": "code",
   "execution_count": 10,
   "metadata": {},
   "outputs": [
    {
     "name": "stdout",
     "output_type": "stream",
     "text": [
      "dict_items([('DA7066', 7.5), ('MM2001', 30)])\n"
     ]
    }
   ],
   "source": [
    "print(hp.items())"
   ]
  },
  {
   "cell_type": "code",
   "execution_count": 11,
   "metadata": {},
   "outputs": [
    {
     "name": "stdout",
     "output_type": "stream",
     "text": [
      "2\n",
      "3\n",
      "True\n",
      "False\n"
     ]
    }
   ],
   "source": [
    "print(len(hp))\n",
    "hp['foo'] = 20.0\n",
    "print(len(hp))\n",
    "print('DA7066' in hp)\n",
    "print('20.0' in hp)"
   ]
  },
  {
   "cell_type": "code",
   "execution_count": 12,
   "metadata": {},
   "outputs": [
    {
     "name": "stdout",
     "output_type": "stream",
     "text": [
      "False\n"
     ]
    }
   ],
   "source": [
    "print(20.0 in hp)"
   ]
  },
  {
   "cell_type": "code",
   "execution_count": 13,
   "metadata": {},
   "outputs": [
    {
     "name": "stdout",
     "output_type": "stream",
     "text": [
      "7.5\n",
      "42\n"
     ]
    }
   ],
   "source": [
    "print(hp.get('DA7066', 42)) # key exists\n",
    "print(hp.get('bar', 42)) # key does not exist"
   ]
  },
  {
   "cell_type": "code",
   "execution_count": 15,
   "metadata": {},
   "outputs": [
    {
     "name": "stdout",
     "output_type": "stream",
     "text": [
      "None\n"
     ]
    }
   ],
   "source": [
    "print(hp.get('bar')) # None"
   ]
  },
  {
   "cell_type": "markdown",
   "metadata": {},
   "source": [
    "## 4.2 File handling"
   ]
  },
  {
   "cell_type": "code",
   "execution_count": 11,
   "metadata": {},
   "outputs": [],
   "source": [
    "h = open('data.txt', 'r') # 'r' for \"read\""
   ]
  },
  {
   "cell_type": "code",
   "execution_count": 5,
   "metadata": {},
   "outputs": [
    {
     "data": {
      "text/plain": [
       "'Hello World!\\n'"
      ]
     },
     "execution_count": 5,
     "metadata": {},
     "output_type": "execute_result"
    }
   ],
   "source": [
    "h.read() # whole file in string"
   ]
  },
  {
   "cell_type": "code",
   "execution_count": 12,
   "metadata": {},
   "outputs": [
    {
     "data": {
      "text/plain": [
       "['Hello World!\\n']"
      ]
     },
     "execution_count": 12,
     "metadata": {},
     "output_type": "execute_result"
    }
   ],
   "source": [
    "h.readlines() # whole file as list of strings"
   ]
  },
  {
   "cell_type": "code",
   "execution_count": 9,
   "metadata": {},
   "outputs": [
    {
     "data": {
      "text/plain": [
       "'Hello World!\\n'"
      ]
     },
     "execution_count": 9,
     "metadata": {},
     "output_type": "execute_result"
    }
   ],
   "source": [
    "h.readline()"
   ]
  },
  {
   "cell_type": "code",
   "execution_count": 15,
   "metadata": {},
   "outputs": [
    {
     "data": {
      "text/plain": [
       "22"
      ]
     },
     "execution_count": 15,
     "metadata": {},
     "output_type": "execute_result"
    }
   ],
   "source": [
    "output = open('out_data.txt', \"w\")\n",
    "output.write(\"This is my first line\")\n",
    "output.write(\"\\n\") # start a new line\n",
    "output.write(\"This is my second line\")"
   ]
  },
  {
   "cell_type": "code",
   "execution_count": 16,
   "metadata": {},
   "outputs": [],
   "source": [
    "h.close()\n",
    "output.close()"
   ]
  },
  {
   "cell_type": "code",
   "execution_count": 29,
   "metadata": {},
   "outputs": [],
   "source": [
    "h_in = open('people.txt', 'r')\n",
    "h_out = open('modern.txt', 'w')\n",
    "for n in h_in: # loop through the file, row by row\n",
    "    lname, fname, year = n.split(',')\n",
    "    if int(year) > 1900:\n",
    "        h_out.write(fname + ' ' + lname + '\\n')\n",
    "h_out.close()\n",
    "h_in.close()"
   ]
  },
  {
   "cell_type": "code",
   "execution_count": 30,
   "metadata": {},
   "outputs": [
    {
     "name": "stdout",
     "output_type": "stream",
     "text": [
      "Erik Olsson\n",
      "\n",
      "Anders Mörtberg\n",
      "\n"
     ]
    }
   ],
   "source": [
    "h_out = open('modern.txt', 'r')\n",
    "for n in h_out:\n",
    "    print(n)"
   ]
  },
  {
   "cell_type": "code",
   "execution_count": 31,
   "metadata": {},
   "outputs": [],
   "source": [
    "with open('ut.txt', 'w') as out:\n",
    "    out.write(\"hej hopp\")"
   ]
  },
  {
   "cell_type": "code",
   "execution_count": 32,
   "metadata": {},
   "outputs": [],
   "source": [
    "out = open('ut.txt', 'w')\n",
    "out.write(\"hej hopp\")\n",
    "out.close()"
   ]
  },
  {
   "cell_type": "code",
   "execution_count": 33,
   "metadata": {},
   "outputs": [],
   "source": [
    "with open('people.txt', 'r') as h_in, open('modern.txt', 'w') as h_out:\n",
    "    for n in h_in:\n",
    "        lname,fname,year = n.split(',')\n",
    "        if int(year) > 1900:\n",
    "            h_out.write(fname + ' ' + lname + '\\n')"
   ]
  },
  {
   "cell_type": "code",
   "execution_count": 34,
   "metadata": {},
   "outputs": [
    {
     "name": "stdout",
     "output_type": "stream",
     "text": [
      "Erik Olsson\n",
      "\n",
      "Anders Mörtberg\n",
      "\n"
     ]
    }
   ],
   "source": [
    "with open('modern.txt', 'r') as h_out:\n",
    "    for n in h_out:\n",
    "        print(n)"
   ]
  },
  {
   "cell_type": "markdown",
   "metadata": {},
   "source": [
    "## 4.3 More on loops: nesting"
   ]
  },
  {
   "cell_type": "code",
   "execution_count": 35,
   "metadata": {},
   "outputs": [
    {
     "name": "stdout",
     "output_type": "stream",
     "text": [
      "0\n",
      "0\n",
      "0\n",
      "0\n",
      "1\n",
      "2\n",
      "0\n",
      "2\n",
      "4\n"
     ]
    }
   ],
   "source": [
    "for i in range(3):\n",
    "    for j in range(3):\n",
    "        print(i * j)"
   ]
  },
  {
   "cell_type": "code",
   "execution_count": 37,
   "metadata": {},
   "outputs": [
    {
     "name": "stdout",
     "output_type": "stream",
     "text": [
      "---------\n",
      "1 1 1\n",
      "1 2 2\n",
      "1 3 3\n",
      "1 4 4\n",
      "1 5 5\n",
      "1 6 6\n",
      "1 7 7\n",
      "1 8 8\n",
      "1 9 9\n",
      "---------\n",
      "2 1 2\n",
      "2 2 4\n",
      "2 3 6\n",
      "2 4 8\n",
      "2 5 10\n",
      "2 6 12\n",
      "2 7 14\n",
      "2 8 16\n",
      "2 9 18\n",
      "---------\n",
      "3 1 3\n",
      "3 2 6\n",
      "3 3 9\n",
      "3 4 12\n",
      "3 5 15\n",
      "3 6 18\n",
      "3 7 21\n",
      "3 8 24\n",
      "3 9 27\n",
      "---------\n",
      "4 1 4\n",
      "4 2 8\n",
      "4 3 12\n",
      "4 4 16\n",
      "4 5 20\n",
      "4 6 24\n",
      "4 7 28\n",
      "4 8 32\n",
      "4 9 36\n",
      "---------\n",
      "5 1 5\n",
      "5 2 10\n",
      "5 3 15\n",
      "5 4 20\n",
      "5 5 25\n",
      "5 6 30\n",
      "5 7 35\n",
      "5 8 40\n",
      "5 9 45\n",
      "---------\n",
      "6 1 6\n",
      "6 2 12\n",
      "6 3 18\n",
      "6 4 24\n",
      "6 5 30\n",
      "6 6 36\n",
      "6 7 42\n",
      "6 8 48\n",
      "6 9 54\n",
      "---------\n",
      "7 1 7\n",
      "7 2 14\n",
      "7 3 21\n",
      "7 4 28\n",
      "7 5 35\n",
      "7 6 42\n",
      "7 7 49\n",
      "7 8 56\n",
      "7 9 63\n",
      "---------\n",
      "8 1 8\n",
      "8 2 16\n",
      "8 3 24\n",
      "8 4 32\n",
      "8 5 40\n",
      "8 6 48\n",
      "8 7 56\n",
      "8 8 64\n",
      "8 9 72\n",
      "---------\n",
      "9 1 9\n",
      "9 2 18\n",
      "9 3 27\n",
      "9 4 36\n",
      "9 5 45\n",
      "9 6 54\n",
      "9 7 63\n",
      "9 8 72\n",
      "9 9 81\n",
      "---------\n"
     ]
    }
   ],
   "source": [
    "print(\"---------\")\n",
    "for i in range(1,10):\n",
    "    for j in range(1,10):\n",
    "        print(i, j, i * j, sep=\" \")\n",
    "    print(\"---------\")"
   ]
  },
  {
   "cell_type": "code",
   "execution_count": 40,
   "metadata": {},
   "outputs": [
    {
     "name": "stdout",
     "output_type": "stream",
     "text": [
      "2 2 4\n",
      "2 4 8\n",
      "2 6 12\n",
      "2 8 16\n",
      "---------\n",
      "4 2 8\n",
      "4 4 16\n",
      "4 6 24\n",
      "4 8 32\n",
      "---------\n",
      "6 2 12\n",
      "6 4 24\n",
      "6 6 36\n",
      "6 8 48\n",
      "---------\n",
      "8 2 16\n",
      "8 4 32\n",
      "8 6 48\n",
      "8 8 64\n",
      "---------\n"
     ]
    }
   ],
   "source": [
    "for i in range (1,10):\n",
    "    if i % 2 == 1:\n",
    "        continue\n",
    "    for j in range(1,10):\n",
    "        if j % 2 == 1:\n",
    "            continue\n",
    "        print(i, j, i * j, sep=\" \")\n",
    "    print(\"---------\")"
   ]
  },
  {
   "cell_type": "markdown",
   "metadata": {},
   "source": [
    "## 4.4 Exercises"
   ]
  },
  {
   "cell_type": "markdown",
   "metadata": {},
   "source": [
    "1. Given the two lists below"
   ]
  },
  {
   "cell_type": "code",
   "execution_count": 21,
   "metadata": {},
   "outputs": [
    {
     "name": "stdout",
     "output_type": "stream",
     "text": [
      "{'a': 1, 'b': 2, 'c': 3}\n"
     ]
    }
   ],
   "source": [
    "a = ['a','b','c']\n",
    "b = [1, 2, 3]\n",
    "\n",
    "dict = {}\n",
    "for i in range(len(a)):\n",
    "    dict[a[i]] = b[i]\n",
    "print(dict)"
   ]
  },
  {
   "cell_type": "markdown",
   "metadata": {},
   "source": [
    "create a dictionary `{'a': 1 ,'b': 2,'c': 3}` using a loop."
   ]
  },
  {
   "cell_type": "markdown",
   "metadata": {},
   "source": [
    "2. Write code that takes all pairs $(x,y)$ of numbers between 2 and 20 such that $x \\ne y$ and prints out their greatest common divisor (GCD).\n",
    "\n",
    "*Tip 1*: Use nested loops and range. \n",
    "\n",
    "*Tip 2*: Use the function GCD from the previous chapter."
   ]
  },
  {
   "cell_type": "code",
   "execution_count": 3,
   "metadata": {},
   "outputs": [
    {
     "name": "stdout",
     "output_type": "stream",
     "text": [
      "x y GCD\n",
      "2 3 1\n",
      "2 4 2\n",
      "2 5 1\n",
      "2 6 2\n",
      "2 7 1\n",
      "2 8 2\n",
      "2 9 1\n",
      "2 10 2\n",
      "2 11 1\n",
      "2 12 2\n",
      "2 13 1\n",
      "2 14 2\n",
      "2 15 1\n",
      "2 16 2\n",
      "2 17 1\n",
      "2 18 2\n",
      "2 19 1\n",
      "2 20 2\n",
      "3 2 1\n",
      "3 4 1\n",
      "3 5 1\n",
      "3 6 3\n",
      "3 7 1\n",
      "3 8 1\n",
      "3 9 3\n",
      "3 10 1\n",
      "3 11 1\n",
      "3 12 3\n",
      "3 13 1\n",
      "3 14 1\n",
      "3 15 3\n",
      "3 16 1\n",
      "3 17 1\n",
      "3 18 3\n",
      "3 19 1\n",
      "3 20 1\n",
      "4 2 2\n",
      "4 3 1\n",
      "4 5 1\n",
      "4 6 2\n",
      "4 7 1\n",
      "4 8 4\n",
      "4 9 1\n",
      "4 10 2\n",
      "4 11 1\n",
      "4 12 4\n",
      "4 13 1\n",
      "4 14 2\n",
      "4 15 1\n",
      "4 16 4\n",
      "4 17 1\n",
      "4 18 2\n",
      "4 19 1\n",
      "4 20 4\n",
      "5 2 1\n",
      "5 3 1\n",
      "5 4 1\n",
      "5 6 1\n",
      "5 7 1\n",
      "5 8 1\n",
      "5 9 1\n",
      "5 10 5\n",
      "5 11 1\n",
      "5 12 1\n",
      "5 13 1\n",
      "5 14 1\n",
      "5 15 5\n",
      "5 16 1\n",
      "5 17 1\n",
      "5 18 1\n",
      "5 19 1\n",
      "5 20 5\n",
      "6 2 2\n",
      "6 3 3\n",
      "6 4 2\n",
      "6 5 1\n",
      "6 7 1\n",
      "6 8 2\n",
      "6 9 3\n",
      "6 10 2\n",
      "6 11 1\n",
      "6 12 6\n",
      "6 13 1\n",
      "6 14 2\n",
      "6 15 3\n",
      "6 16 2\n",
      "6 17 1\n",
      "6 18 6\n",
      "6 19 1\n",
      "6 20 2\n",
      "7 2 1\n",
      "7 3 1\n",
      "7 4 1\n",
      "7 5 1\n",
      "7 6 1\n",
      "7 8 1\n",
      "7 9 1\n",
      "7 10 1\n",
      "7 11 1\n",
      "7 12 1\n",
      "7 13 1\n",
      "7 14 7\n",
      "7 15 1\n",
      "7 16 1\n",
      "7 17 1\n",
      "7 18 1\n",
      "7 19 1\n",
      "7 20 1\n",
      "8 2 2\n",
      "8 3 1\n",
      "8 4 4\n",
      "8 5 1\n",
      "8 6 2\n",
      "8 7 1\n",
      "8 9 1\n",
      "8 10 2\n",
      "8 11 1\n",
      "8 12 4\n",
      "8 13 1\n",
      "8 14 2\n",
      "8 15 1\n",
      "8 16 8\n",
      "8 17 1\n",
      "8 18 2\n",
      "8 19 1\n",
      "8 20 4\n",
      "9 2 1\n",
      "9 3 3\n",
      "9 4 1\n",
      "9 5 1\n",
      "9 6 3\n",
      "9 7 1\n",
      "9 8 1\n",
      "9 10 1\n",
      "9 11 1\n",
      "9 12 3\n",
      "9 13 1\n",
      "9 14 1\n",
      "9 15 3\n",
      "9 16 1\n",
      "9 17 1\n",
      "9 18 9\n",
      "9 19 1\n",
      "9 20 1\n",
      "10 2 2\n",
      "10 3 1\n",
      "10 4 2\n",
      "10 5 5\n",
      "10 6 2\n",
      "10 7 1\n",
      "10 8 2\n",
      "10 9 1\n",
      "10 11 1\n",
      "10 12 2\n",
      "10 13 1\n",
      "10 14 2\n",
      "10 15 5\n",
      "10 16 2\n",
      "10 17 1\n",
      "10 18 2\n",
      "10 19 1\n",
      "10 20 10\n",
      "11 2 1\n",
      "11 3 1\n",
      "11 4 1\n",
      "11 5 1\n",
      "11 6 1\n",
      "11 7 1\n",
      "11 8 1\n",
      "11 9 1\n",
      "11 10 1\n",
      "11 12 1\n",
      "11 13 1\n",
      "11 14 1\n",
      "11 15 1\n",
      "11 16 1\n",
      "11 17 1\n",
      "11 18 1\n",
      "11 19 1\n",
      "11 20 1\n",
      "12 2 2\n",
      "12 3 3\n",
      "12 4 4\n",
      "12 5 1\n",
      "12 6 6\n",
      "12 7 1\n",
      "12 8 4\n",
      "12 9 3\n",
      "12 10 2\n",
      "12 11 1\n",
      "12 13 1\n",
      "12 14 2\n",
      "12 15 3\n",
      "12 16 4\n",
      "12 17 1\n",
      "12 18 6\n",
      "12 19 1\n",
      "12 20 4\n",
      "13 2 1\n",
      "13 3 1\n",
      "13 4 1\n",
      "13 5 1\n",
      "13 6 1\n",
      "13 7 1\n",
      "13 8 1\n",
      "13 9 1\n",
      "13 10 1\n",
      "13 11 1\n",
      "13 12 1\n",
      "13 14 1\n",
      "13 15 1\n",
      "13 16 1\n",
      "13 17 1\n",
      "13 18 1\n",
      "13 19 1\n",
      "13 20 1\n",
      "14 2 2\n",
      "14 3 1\n",
      "14 4 2\n",
      "14 5 1\n",
      "14 6 2\n",
      "14 7 7\n",
      "14 8 2\n",
      "14 9 1\n",
      "14 10 2\n",
      "14 11 1\n",
      "14 12 2\n",
      "14 13 1\n",
      "14 15 1\n",
      "14 16 2\n",
      "14 17 1\n",
      "14 18 2\n",
      "14 19 1\n",
      "14 20 2\n",
      "15 2 1\n",
      "15 3 3\n",
      "15 4 1\n",
      "15 5 5\n",
      "15 6 3\n",
      "15 7 1\n",
      "15 8 1\n",
      "15 9 3\n",
      "15 10 5\n",
      "15 11 1\n",
      "15 12 3\n",
      "15 13 1\n",
      "15 14 1\n",
      "15 16 1\n",
      "15 17 1\n",
      "15 18 3\n",
      "15 19 1\n",
      "15 20 5\n",
      "16 2 2\n",
      "16 3 1\n",
      "16 4 4\n",
      "16 5 1\n",
      "16 6 2\n",
      "16 7 1\n",
      "16 8 8\n",
      "16 9 1\n",
      "16 10 2\n",
      "16 11 1\n",
      "16 12 4\n",
      "16 13 1\n",
      "16 14 2\n",
      "16 15 1\n",
      "16 17 1\n",
      "16 18 2\n",
      "16 19 1\n",
      "16 20 4\n",
      "17 2 1\n",
      "17 3 1\n",
      "17 4 1\n",
      "17 5 1\n",
      "17 6 1\n",
      "17 7 1\n",
      "17 8 1\n",
      "17 9 1\n",
      "17 10 1\n",
      "17 11 1\n",
      "17 12 1\n",
      "17 13 1\n",
      "17 14 1\n",
      "17 15 1\n",
      "17 16 1\n",
      "17 18 1\n",
      "17 19 1\n",
      "17 20 1\n",
      "18 2 2\n",
      "18 3 3\n",
      "18 4 2\n",
      "18 5 1\n",
      "18 6 6\n",
      "18 7 1\n",
      "18 8 2\n",
      "18 9 9\n",
      "18 10 2\n",
      "18 11 1\n",
      "18 12 6\n",
      "18 13 1\n",
      "18 14 2\n",
      "18 15 3\n",
      "18 16 2\n",
      "18 17 1\n",
      "18 19 1\n",
      "18 20 2\n",
      "19 2 1\n",
      "19 3 1\n",
      "19 4 1\n",
      "19 5 1\n",
      "19 6 1\n",
      "19 7 1\n",
      "19 8 1\n",
      "19 9 1\n",
      "19 10 1\n",
      "19 11 1\n",
      "19 12 1\n",
      "19 13 1\n",
      "19 14 1\n",
      "19 15 1\n",
      "19 16 1\n",
      "19 17 1\n",
      "19 18 1\n",
      "19 20 1\n",
      "20 2 2\n",
      "20 3 1\n",
      "20 4 4\n",
      "20 5 5\n",
      "20 6 2\n",
      "20 7 1\n",
      "20 8 4\n",
      "20 9 1\n",
      "20 10 10\n",
      "20 11 1\n",
      "20 12 4\n",
      "20 13 1\n",
      "20 14 2\n",
      "20 15 5\n",
      "20 16 4\n",
      "20 17 1\n",
      "20 18 2\n",
      "20 19 1\n"
     ]
    }
   ],
   "source": [
    "def GCD(a, b):\n",
    "    if b > a:\n",
    "        a, b = b, a\n",
    "    \n",
    "    r = a % b\n",
    "    while r != 0:\n",
    "        a = b\n",
    "        b = r\n",
    "        r = a % b\n",
    "    return b\n",
    "print(\"x y GCD\")\n",
    "for i in range(2, 21):\n",
    "    for j in range(2, 21):\n",
    "        if i == j:\n",
    "            continue\n",
    "        else:\n",
    "            print(i, j, GCD(i, j), sep=\" \")\n",
    "    "
   ]
  },
  {
   "cell_type": "markdown",
   "metadata": {},
   "source": [
    "3. In exercise 2, it is unnecessary to print the GCD of, for example, both x,y = 2,3 and x,y = 3,2.\n",
    "Rewrite the code so that x is always less than y in the printed lines.\n",
    "Tip: In the inner for-loop, what happens if we iterate starting from the current value of x?"
   ]
  },
  {
   "cell_type": "code",
   "execution_count": 4,
   "metadata": {},
   "outputs": [
    {
     "name": "stdout",
     "output_type": "stream",
     "text": [
      "x y GCD\n",
      "2 3 1\n",
      "2 4 2\n",
      "2 5 1\n",
      "2 6 2\n",
      "2 7 1\n",
      "2 8 2\n",
      "2 9 1\n",
      "2 10 2\n",
      "2 11 1\n",
      "2 12 2\n",
      "2 13 1\n",
      "2 14 2\n",
      "2 15 1\n",
      "2 16 2\n",
      "2 17 1\n",
      "2 18 2\n",
      "2 19 1\n",
      "2 20 2\n",
      "3 4 1\n",
      "3 5 1\n",
      "3 6 3\n",
      "3 7 1\n",
      "3 8 1\n",
      "3 9 3\n",
      "3 10 1\n",
      "3 11 1\n",
      "3 12 3\n",
      "3 13 1\n",
      "3 14 1\n",
      "3 15 3\n",
      "3 16 1\n",
      "3 17 1\n",
      "3 18 3\n",
      "3 19 1\n",
      "3 20 1\n",
      "4 5 1\n",
      "4 6 2\n",
      "4 7 1\n",
      "4 8 4\n",
      "4 9 1\n",
      "4 10 2\n",
      "4 11 1\n",
      "4 12 4\n",
      "4 13 1\n",
      "4 14 2\n",
      "4 15 1\n",
      "4 16 4\n",
      "4 17 1\n",
      "4 18 2\n",
      "4 19 1\n",
      "4 20 4\n",
      "5 6 1\n",
      "5 7 1\n",
      "5 8 1\n",
      "5 9 1\n",
      "5 10 5\n",
      "5 11 1\n",
      "5 12 1\n",
      "5 13 1\n",
      "5 14 1\n",
      "5 15 5\n",
      "5 16 1\n",
      "5 17 1\n",
      "5 18 1\n",
      "5 19 1\n",
      "5 20 5\n",
      "6 7 1\n",
      "6 8 2\n",
      "6 9 3\n",
      "6 10 2\n",
      "6 11 1\n",
      "6 12 6\n",
      "6 13 1\n",
      "6 14 2\n",
      "6 15 3\n",
      "6 16 2\n",
      "6 17 1\n",
      "6 18 6\n",
      "6 19 1\n",
      "6 20 2\n",
      "7 8 1\n",
      "7 9 1\n",
      "7 10 1\n",
      "7 11 1\n",
      "7 12 1\n",
      "7 13 1\n",
      "7 14 7\n",
      "7 15 1\n",
      "7 16 1\n",
      "7 17 1\n",
      "7 18 1\n",
      "7 19 1\n",
      "7 20 1\n",
      "8 9 1\n",
      "8 10 2\n",
      "8 11 1\n",
      "8 12 4\n",
      "8 13 1\n",
      "8 14 2\n",
      "8 15 1\n",
      "8 16 8\n",
      "8 17 1\n",
      "8 18 2\n",
      "8 19 1\n",
      "8 20 4\n",
      "9 10 1\n",
      "9 11 1\n",
      "9 12 3\n",
      "9 13 1\n",
      "9 14 1\n",
      "9 15 3\n",
      "9 16 1\n",
      "9 17 1\n",
      "9 18 9\n",
      "9 19 1\n",
      "9 20 1\n",
      "10 11 1\n",
      "10 12 2\n",
      "10 13 1\n",
      "10 14 2\n",
      "10 15 5\n",
      "10 16 2\n",
      "10 17 1\n",
      "10 18 2\n",
      "10 19 1\n",
      "10 20 10\n",
      "11 12 1\n",
      "11 13 1\n",
      "11 14 1\n",
      "11 15 1\n",
      "11 16 1\n",
      "11 17 1\n",
      "11 18 1\n",
      "11 19 1\n",
      "11 20 1\n",
      "12 13 1\n",
      "12 14 2\n",
      "12 15 3\n",
      "12 16 4\n",
      "12 17 1\n",
      "12 18 6\n",
      "12 19 1\n",
      "12 20 4\n",
      "13 14 1\n",
      "13 15 1\n",
      "13 16 1\n",
      "13 17 1\n",
      "13 18 1\n",
      "13 19 1\n",
      "13 20 1\n",
      "14 15 1\n",
      "14 16 2\n",
      "14 17 1\n",
      "14 18 2\n",
      "14 19 1\n",
      "14 20 2\n",
      "15 16 1\n",
      "15 17 1\n",
      "15 18 3\n",
      "15 19 1\n",
      "15 20 5\n",
      "16 17 1\n",
      "16 18 2\n",
      "16 19 1\n",
      "16 20 4\n",
      "17 18 1\n",
      "17 19 1\n",
      "17 20 1\n",
      "18 19 1\n",
      "18 20 2\n",
      "19 20 1\n"
     ]
    }
   ],
   "source": [
    "def GCD(a, b):\n",
    "    if b > a:\n",
    "        a, b = b, a\n",
    "    \n",
    "    r = a % b\n",
    "    while r != 0:\n",
    "        a = b\n",
    "        b = r\n",
    "        r = a % b\n",
    "    return b\n",
    "print(\"x y GCD\")\n",
    "for i in range(2, 21):\n",
    "    for j in range(2, 21):\n",
    "        if i >= j:\n",
    "            continue\n",
    "        else:\n",
    "            print(i, j, GCD(i, j), sep=\" \")\n",
    "    "
   ]
  },
  {
   "cell_type": "markdown",
   "metadata": {},
   "source": [
    "4. In chapter 3, we worked with the function `vowels`. Use a dictionary that has the vowels in `vs` as\n",
    "keys and numbers as values (you can choose the values yourself). Modify the function so that it\n",
    "instead replaces each vowel with the corresponding number."
   ]
  },
  {
   "cell_type": "code",
   "execution_count": 7,
   "metadata": {},
   "outputs": [
    {
     "name": "stdout",
     "output_type": "stream",
     "text": [
      "H2ll4 W4rld!\n"
     ]
    }
   ],
   "source": [
    "def vowels(s):\n",
    "    vs = \"AEIOUYaeiouy\"\n",
    "    vowel_dict = {'A': '1', 'E': '2', 'I': '3', 'O': '4', 'U': '5', 'Y': '6',\n",
    "                  'a': '1', 'e': '2', 'i': '3', 'o': '4', 'u': '5', 'y': '6'}\n",
    "    out = \"\"\n",
    "    for c in s:\n",
    "        if c in vs:\n",
    "            out += vowel_dict[c]\n",
    "        else:\n",
    "            out += c\n",
    "    return out\n",
    "\n",
    "print(vowels(\"Hello World!\"))\n"
   ]
  },
  {
   "cell_type": "markdown",
   "metadata": {},
   "source": [
    "5. In chapter 3, we worked with the function `split` (given below). Use the structure of this function\n",
    "as a guide to help you write a function that takes a string and associates each word with a number\n",
    "representing where the word appears for the last time in the string. The function should return a\n",
    "dictionary with words as keys and numbers as values."
   ]
  },
  {
   "cell_type": "code",
   "execution_count": 8,
   "metadata": {},
   "outputs": [
    {
     "name": "stdout",
     "output_type": "stream",
     "text": [
      "{'hej': 4, 'du': 5}\n"
     ]
    }
   ],
   "source": [
    "def annotate_word(s):\n",
    "    out = {}\n",
    "    term = \"\"\n",
    "    count = 0\n",
    "    for c in s:\n",
    "        if c == \" \":\n",
    "            count += 1\n",
    "            out[term] = count\n",
    "            term = \"\"\n",
    "        else:\n",
    "            term += c\n",
    "\n",
    "    if term != \"\":\n",
    "        count += 1\n",
    "        out[term] = count\n",
    "\n",
    "    return out\n",
    "\n",
    "print(annotate_word(\"hej du hej hej du\"))"
   ]
  },
  {
   "cell_type": "markdown",
   "metadata": {},
   "source": [
    "6. How can we easily get annotate_word from exercise 5 to instead return a dictionary with numbers\n",
    "as keys and words as values?"
   ]
  },
  {
   "cell_type": "code",
   "execution_count": 18,
   "metadata": {},
   "outputs": [
    {
     "name": "stdout",
     "output_type": "stream",
     "text": [
      "{4: 'hej', 5: 'du'}\n"
     ]
    }
   ],
   "source": [
    "def annotate_word(s):\n",
    "    out = {}\n",
    "    term = \"\"\n",
    "    count = 0\n",
    "    for c in s:\n",
    "        if c == \" \":\n",
    "            count += 1\n",
    "            out[term] = count\n",
    "            term = \"\"\n",
    "        else:\n",
    "            term += c\n",
    "\n",
    "    if term != \"\":\n",
    "        count += 1\n",
    "        out[term] = count\n",
    "    \n",
    "    return {v: k for k, v in out.items()}\n",
    "\n",
    "print(annotate_word(\"hej du hej hej du\"))"
   ]
  },
  {
   "cell_type": "markdown",
   "metadata": {},
   "source": [
    "7. Modify `annotate_word` from exercise 5 so that not only the last occurrence but `all` occurrences\n",
    "are stored in the dictionary. What data structure should we have as `values` in our data structure?"
   ]
  },
  {
   "cell_type": "code",
   "execution_count": 20,
   "metadata": {},
   "outputs": [
    {
     "name": "stdout",
     "output_type": "stream",
     "text": [
      "{'hej': [1, 3, 4], 'du': [2, 5]}\n"
     ]
    }
   ],
   "source": [
    "def annotate_word(s):\n",
    "    out = {}\n",
    "    term = \"\"\n",
    "    count = 0\n",
    "    for c in s:\n",
    "        if c == \" \":\n",
    "            count += 1\n",
    "            if term in out:\n",
    "                out[term].append(count)\n",
    "            else:\n",
    "                out[term] = [count]\n",
    "            term = \"\"\n",
    "        else:\n",
    "            term += c\n",
    "\n",
    "    if term != \"\":\n",
    "        count += 1\n",
    "        if term in out:\n",
    "            out[term].append(count)\n",
    "        else:\n",
    "            out[term] = [count]\n",
    "\n",
    "    return out\n",
    "\n",
    "print(annotate_word(\"hej du hej hej du\"))"
   ]
  }
 ],
 "metadata": {
  "kernelspec": {
   "display_name": "example",
   "language": "python",
   "name": "python3"
  },
  "language_info": {
   "codemirror_mode": {
    "name": "ipython",
    "version": 3
   },
   "file_extension": ".py",
   "mimetype": "text/x-python",
   "name": "python",
   "nbconvert_exporter": "python",
   "pygments_lexer": "ipython3",
   "version": "3.10.8"
  }
 },
 "nbformat": 4,
 "nbformat_minor": 2
}
