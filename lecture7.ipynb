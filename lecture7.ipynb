{
 "cells": [
  {
   "cell_type": "markdown",
   "metadata": {},
   "source": [
    "# Chapter 7\n",
    "Modules, libraries, and program\n",
    "structure"
   ]
  },
  {
   "cell_type": "code",
   "execution_count": 2,
   "metadata": {},
   "outputs": [
    {
     "data": {
      "text/plain": [
       "4"
      ]
     },
     "execution_count": 2,
     "metadata": {},
     "output_type": "execute_result"
    }
   ],
   "source": [
    "import math\n",
    "math.ceil(3.5) # Round up\n",
    "# ceil(4.4) # Error!"
   ]
  },
  {
   "cell_type": "code",
   "execution_count": 3,
   "metadata": {},
   "outputs": [
    {
     "data": {
      "text/plain": [
       "4"
      ]
     },
     "execution_count": 3,
     "metadata": {},
     "output_type": "execute_result"
    }
   ],
   "source": [
    "from math import ceil\n",
    "ceil(3.5)"
   ]
  },
  {
   "cell_type": "code",
   "execution_count": 4,
   "metadata": {},
   "outputs": [
    {
     "data": {
      "text/plain": [
       "4"
      ]
     },
     "execution_count": 4,
     "metadata": {},
     "output_type": "execute_result"
    }
   ],
   "source": [
    "import math as M\n",
    "M.ceil(3.4)"
   ]
  },
  {
   "cell_type": "code",
   "execution_count": 5,
   "metadata": {},
   "outputs": [
    {
     "name": "stdout",
     "output_type": "stream",
     "text": [
      "True\n",
      "True\n",
      "True\n",
      "True\n",
      "True\n",
      "True\n",
      "True\n",
      "True\n",
      "True\n",
      "True\n",
      "True\n",
      "True\n",
      "True\n",
      "True\n",
      "True\n",
      "True\n",
      "True\n",
      "True\n",
      "True\n",
      "True\n",
      "True\n",
      "True\n",
      "True\n",
      "True\n",
      "True\n",
      "True\n",
      "True\n",
      "True\n"
     ]
    }
   ],
   "source": [
    "from math import gcd as libgcd\n",
    "\n",
    "def gcd(a, b):\n",
    "\tr = a % b\n",
    "\tif r == 0:\n",
    "\t\treturn b\n",
    "\telse:\n",
    "\t\treturn gcd(b, r)\n",
    "\n",
    "for a in range(2, 10):\n",
    "\tfor b in range(2, a):\n",
    "\t\tprint(gcd(a, b) == libgcd(a, b))"
   ]
  },
  {
   "cell_type": "code",
   "execution_count": 8,
   "metadata": {},
   "outputs": [],
   "source": [
    "## The four ways in an example:\n",
    "# 1\n",
    "import math\n",
    "def binom1(n, k):\n",
    "    return math.factorial(n) / (math.factorial(k) * math.factorial(n-k))\n",
    "\n",
    "# 2\n",
    "import math as m\n",
    "def binom2(n, k):\n",
    "    return m.factorial(n) / (m.factorial(k) * m.factorial(n-k))\n",
    "\n",
    "\n",
    "# 3\n",
    "from math import factorial\n",
    "def binom3(n, k):\n",
    "    return factorial(n) /(factorial(k)*factorial(n-k))\n",
    "\n",
    "\n",
    "# 4\n",
    "from math import factorial as fac\n",
    "def binom4(n, k):\n",
    "    return fac(n) /(fac(k)*fac(n-k))"
   ]
  },
  {
   "cell_type": "code",
   "execution_count": 7,
   "metadata": {},
   "outputs": [
    {
     "name": "stdout",
     "output_type": "stream",
     "text": [
      "3.14\n",
      "6.28\n",
      "3.14\n",
      "Circle tests\n",
      "Pi is in this module set to: 3.14\n",
      "Area for 2 is: 12.56\n",
      "Area for 5 is: 78.5\n",
      "Circumference for 1 is: 6.28\n",
      "Circumference for 2 is: 12.56\n"
     ]
    }
   ],
   "source": [
    "# Use as module:\n",
    "import circle\n",
    "\n",
    "r = 1\n",
    "print(circle.area(r))\n",
    "\n",
    "print(circle.circumference(r))\n",
    "print(circle.pi)\n",
    "\n",
    "# Run the circle.py as main file to execute the 'tests' \n",
    "# (not really tests - more about tests in chapter 7)\n",
    "\n",
    "circle.main()"
   ]
  },
  {
   "cell_type": "code",
   "execution_count": 6,
   "metadata": {},
   "outputs": [
    {
     "name": "stdout",
     "output_type": "stream",
     "text": [
      "python main function\n",
      "__name__ value:  __main__\n"
     ]
    }
   ],
   "source": [
    "def main():\n",
    "    print(\"python main function\")\n",
    "\n",
    "if __name__ == '__main__':\n",
    "    main()\n",
    "\n",
    "print(\"__name__ value: \", __name__)"
   ]
  },
  {
   "cell_type": "markdown",
   "metadata": {},
   "source": [
    "Here, `main` is called if and only if one runs this program as a standalone file. If the file is used as a module instead, then `main` is not run. You can thereby write modules that contain example programs and/or test code that is not run when the module is imported. The reason that `main` is not run if the file is imported as a module is that the variable `__name__` is set to the module name in that case, so the body of the `if`-statement is not run."
   ]
  },
  {
   "cell_type": "markdown",
   "metadata": {},
   "source": [
    "## 7.2 Popular libraries and modules"
   ]
  },
  {
   "cell_type": "markdown",
   "metadata": {},
   "source": [
    "Computing\n",
    "\n",
    "* `math` -- Mathematics: trigonometry, logarithms, etc\n",
    "* `random` -- Probabilities, random number generators\n",
    "* `matplotlib` -- Visualization of data\n",
    "* `itertools` -- iterating over complex combinatorics (permutations, combinations with/without replacement)\n",
    "\n",
    "File handeling, I/O\n",
    "\n",
    "* `sys` -- about the python interpreter (memory usage, garbage collection)\n",
    "* `os` -- advanced handling of files and independence on Operating system\n",
    "* `argparse` -- Interact with terminal, for writing programs\n",
    "\n",
    "Not part of standard distribution:\n",
    "\n",
    "* `numpy` and `scipy` -- Large scale mathematical computing, vectors, matrices, large data statistics\n",
    "* `pandas` -- Data analysis\n",
    "* `seaborn` -- Vizualization and data analysis"
   ]
  },
  {
   "cell_type": "code",
   "execution_count": 10,
   "metadata": {},
   "outputs": [
    {
     "name": "stdout",
     "output_type": "stream",
     "text": [
      "1815\n",
      "1791\n",
      "1905\n"
     ]
    }
   ],
   "source": [
    "import json\n",
    "legends = [ ['Lovelace', 'Ada', 1815]\n",
    ", ['Babbage', 'Charles', 1791]\n",
    ", ['Beurling', 'Arne', 1905]]\n",
    "# Create a data file:\n",
    "with open('legends.json', 'w') as outfile:\n",
    "\toutfile.write(json.dumps(legends))\n",
    "# Later... write out birth years:\n",
    "with open('legends.json', 'r') as data_h:\n",
    "\texternal_data = json.load(data_h)\n",
    "\tfor x in external_data:\n",
    "\t\tprint(x[2]) # Print birth year"
   ]
  },
  {
   "cell_type": "code",
   "execution_count": 11,
   "metadata": {},
   "outputs": [
    {
     "name": "stdout",
     "output_type": "stream",
     "text": [
      "[1 2 3 4]\n",
      "[[1. 1.]\n",
      " [1. 1.]]\n",
      "[[0. 0. 0. 0. 0. 0. 0. 0. 0. 0.]\n",
      " [0. 0. 0. 0. 0. 0. 0. 0. 0. 0.]\n",
      " [0. 0. 0. 0. 0. 0. 0. 0. 0. 0.]\n",
      " [0. 0. 0. 0. 0. 0. 0. 0. 0. 0.]\n",
      " [0. 0. 0. 0. 0. 0. 0. 0. 0. 0.]\n",
      " [0. 0. 0. 0. 0. 0. 0. 0. 0. 0.]\n",
      " [0. 0. 0. 0. 0. 0. 0. 0. 0. 0.]\n",
      " [0. 0. 0. 0. 0. 0. 0. 0. 0. 0.]\n",
      " [0. 0. 0. 0. 0. 0. 0. 0. 0. 0.]\n",
      " [0. 0. 0. 0. 0. 0. 0. 0. 0. 0.]]\n",
      "[0.         0.06666667 0.13333333 0.2        0.26666667 0.33333333\n",
      " 0.4        0.46666667 0.53333333 0.6        0.66666667 0.73333333\n",
      " 0.8        0.86666667 0.93333333 1.        ]\n",
      "[[0.         0.06666667 0.13333333 0.2       ]\n",
      " [0.26666667 0.33333333 0.4        0.46666667]\n",
      " [0.53333333 0.6        0.66666667 0.73333333]\n",
      " [0.8        0.86666667 0.93333333 1.        ]]\n"
     ]
    }
   ],
   "source": [
    "import numpy as np # It is idiomatic Python to import numpy as np\n",
    "a = np.array([1,2,3,4]) # From an ordinary list\n",
    "b = np.ones((2,2)) # 2x2 unit matrix\n",
    "c = np.zeros((10,10)) # 10x10 zero matrix\n",
    "d = np.linspace(0, 1, 16) # 16 elements from 0 to 1, floats!\n",
    "e = np.reshape(d, (4,4)) # Creates a 4x4 matrix with numbers from 0 to 1\n",
    "print(a)\n",
    "print(b)\n",
    "print(c)\n",
    "print(d)\n",
    "print(e)"
   ]
  },
  {
   "cell_type": "code",
   "execution_count": 12,
   "metadata": {},
   "outputs": [
    {
     "name": "stdout",
     "output_type": "stream",
     "text": [
      "Help on _ArrayFunctionDispatcher in module numpy:\n",
      "\n",
      "linspace(start, stop, num=50, endpoint=True, retstep=False, dtype=None, axis=0)\n",
      "    Return evenly spaced numbers over a specified interval.\n",
      "    \n",
      "    Returns `num` evenly spaced samples, calculated over the\n",
      "    interval [`start`, `stop`].\n",
      "    \n",
      "    The endpoint of the interval can optionally be excluded.\n",
      "    \n",
      "    .. versionchanged:: 1.16.0\n",
      "        Non-scalar `start` and `stop` are now supported.\n",
      "    \n",
      "    .. versionchanged:: 1.20.0\n",
      "        Values are rounded towards ``-inf`` instead of ``0`` when an\n",
      "        integer ``dtype`` is specified. The old behavior can\n",
      "        still be obtained with ``np.linspace(start, stop, num).astype(int)``\n",
      "    \n",
      "    Parameters\n",
      "    ----------\n",
      "    start : array_like\n",
      "        The starting value of the sequence.\n",
      "    stop : array_like\n",
      "        The end value of the sequence, unless `endpoint` is set to False.\n",
      "        In that case, the sequence consists of all but the last of ``num + 1``\n",
      "        evenly spaced samples, so that `stop` is excluded.  Note that the step\n",
      "        size changes when `endpoint` is False.\n",
      "    num : int, optional\n",
      "        Number of samples to generate. Default is 50. Must be non-negative.\n",
      "    endpoint : bool, optional\n",
      "        If True, `stop` is the last sample. Otherwise, it is not included.\n",
      "        Default is True.\n",
      "    retstep : bool, optional\n",
      "        If True, return (`samples`, `step`), where `step` is the spacing\n",
      "        between samples.\n",
      "    dtype : dtype, optional\n",
      "        The type of the output array.  If `dtype` is not given, the data type\n",
      "        is inferred from `start` and `stop`. The inferred dtype will never be\n",
      "        an integer; `float` is chosen even if the arguments would produce an\n",
      "        array of integers.\n",
      "    \n",
      "        .. versionadded:: 1.9.0\n",
      "    \n",
      "    axis : int, optional\n",
      "        The axis in the result to store the samples.  Relevant only if start\n",
      "        or stop are array-like.  By default (0), the samples will be along a\n",
      "        new axis inserted at the beginning. Use -1 to get an axis at the end.\n",
      "    \n",
      "        .. versionadded:: 1.16.0\n",
      "    \n",
      "    Returns\n",
      "    -------\n",
      "    samples : ndarray\n",
      "        There are `num` equally spaced samples in the closed interval\n",
      "        ``[start, stop]`` or the half-open interval ``[start, stop)``\n",
      "        (depending on whether `endpoint` is True or False).\n",
      "    step : float, optional\n",
      "        Only returned if `retstep` is True\n",
      "    \n",
      "        Size of spacing between samples.\n",
      "    \n",
      "    \n",
      "    See Also\n",
      "    --------\n",
      "    arange : Similar to `linspace`, but uses a step size (instead of the\n",
      "             number of samples).\n",
      "    geomspace : Similar to `linspace`, but with numbers spaced evenly on a log\n",
      "                scale (a geometric progression).\n",
      "    logspace : Similar to `geomspace`, but with the end points specified as\n",
      "               logarithms.\n",
      "    :ref:`how-to-partition`\n",
      "    \n",
      "    Examples\n",
      "    --------\n",
      "    >>> np.linspace(2.0, 3.0, num=5)\n",
      "    array([2.  , 2.25, 2.5 , 2.75, 3.  ])\n",
      "    >>> np.linspace(2.0, 3.0, num=5, endpoint=False)\n",
      "    array([2. ,  2.2,  2.4,  2.6,  2.8])\n",
      "    >>> np.linspace(2.0, 3.0, num=5, retstep=True)\n",
      "    (array([2.  ,  2.25,  2.5 ,  2.75,  3.  ]), 0.25)\n",
      "    \n",
      "    Graphical illustration:\n",
      "    \n",
      "    >>> import matplotlib.pyplot as plt\n",
      "    >>> N = 8\n",
      "    >>> y = np.zeros(N)\n",
      "    >>> x1 = np.linspace(0, 10, N, endpoint=True)\n",
      "    >>> x2 = np.linspace(0, 10, N, endpoint=False)\n",
      "    >>> plt.plot(x1, y, 'o')\n",
      "    [<matplotlib.lines.Line2D object at 0x...>]\n",
      "    >>> plt.plot(x2, y + 0.5, 'o')\n",
      "    [<matplotlib.lines.Line2D object at 0x...>]\n",
      "    >>> plt.ylim([-0.5, 1])\n",
      "    (-0.5, 1)\n",
      "    >>> plt.show()\n",
      "\n"
     ]
    }
   ],
   "source": [
    "help(np.linspace)"
   ]
  },
  {
   "cell_type": "code",
   "execution_count": 15,
   "metadata": {},
   "outputs": [
    {
     "name": "stdout",
     "output_type": "stream",
     "text": [
      "[[1 2]\n",
      " [3 4]]\n",
      "[2. 5.]\n"
     ]
    }
   ],
   "source": [
    "m = np.array([[1,2], [3,4]])\n",
    "v = np.array([1, 0.5])\n",
    "product = np.matmul(m, v)\n",
    "print(m)\n",
    "print(product)"
   ]
  },
  {
   "cell_type": "markdown",
   "metadata": {},
   "source": [
    "### 7.2.3 Matplotlib: plotting data"
   ]
  },
  {
   "cell_type": "code",
   "execution_count": 16,
   "metadata": {},
   "outputs": [
    {
     "data": {
      "image/png": "[encoded data removed]",
      "text/plain": [
       "<Figure size 640x480 with 1 Axes>"
      ]
     },
     "metadata": {},
     "output_type": "display_data"
    },
    {
     "data": {
      "text/plain": [
       "<Figure size 640x480 with 0 Axes>"
      ]
     },
     "metadata": {},
     "output_type": "display_data"
    }
   ],
   "source": [
    "# MATPLOTLIB\n",
    "\n",
    "from matplotlib import pyplot\n",
    "\n",
    "# Functions\n",
    "xs = [1,2,3,4]\n",
    "ys = [1,4,9,16]\n",
    "pyplot.plot(xs, ys)\n",
    "pyplot.scatter(xs, ys)\n",
    "pyplot.clf() # this clears the figure for any upcoming plots\n",
    "pyplot.plot(xs, ys)\n",
    "\n",
    "\n",
    "pyplot.title(\"A title\")\n",
    "pyplot.xlabel(\"x\")\n",
    "pyplot.ylabel(\"x^2\")\n",
    "\n",
    "#pyplot.savefig(\"/X/Y/graph.pdf\") # save to file\n",
    "pyplot.show() # to show in plots panel in spyder\n",
    "\n",
    "pyplot.clf() # this clears the figure for any upcoming plots"
   ]
  },
  {
   "cell_type": "code",
   "execution_count": 17,
   "metadata": {},
   "outputs": [
    {
     "data": {
      "image/png": "[encoded data removed]",
      "text/plain": [
       "<Figure size 640x480 with 1 Axes>"
      ]
     },
     "metadata": {},
     "output_type": "display_data"
    }
   ],
   "source": [
    "# Histograms\n",
    "from matplotlib import pyplot\n",
    "# most expressed gene in sample, 10 experiments\n",
    "expressed = ['DAZ', 'GCLC', 'MAPK8', 'BAX', 'GCLC', 'GCLC', 'DAZ']\n",
    "pyplot.hist(expressed)\n",
    "pyplot.show()"
   ]
  },
  {
   "cell_type": "code",
   "execution_count": 20,
   "metadata": {},
   "outputs": [
    {
     "data": {
      "image/png": "[encoded data removed]",
      "text/plain": [
       "<Figure size 640x480 with 1 Axes>"
      ]
     },
     "metadata": {},
     "output_type": "display_data"
    }
   ],
   "source": [
    "# Scatter plots\n",
    "from matplotlib import pyplot\n",
    "xs = [1,2,3,4]\n",
    "ys = [1,4,9,16]\n",
    "pyplot.scatter(xs, ys)\n",
    "pyplot.show()"
   ]
  },
  {
   "cell_type": "code",
   "execution_count": 21,
   "metadata": {},
   "outputs": [
    {
     "data": {
      "image/png": "[encoded data removed]",
      "text/plain": [
       "<Figure size 640x480 with 1 Axes>"
      ]
     },
     "metadata": {},
     "output_type": "display_data"
    }
   ],
   "source": [
    "from matplotlib import pyplot\n",
    "t_scores = [100,57,24,43,90,62]\n",
    "t_attendance = [100,90,54,98,76,21]\n",
    "\n",
    "f_scores = [84,76,64,48,51,70] \n",
    "f_attendance =  [79,67,41,53,80,52]\n",
    "\n",
    "pyplot.scatter(t_scores, t_attendance, color='r', label='traditional')\n",
    "pyplot.scatter(f_scores, f_attendance, color='b', label='flipped')\n",
    "pyplot.xlabel(\"Score\")\n",
    "pyplot.ylabel(\"Attendance (%)\")\n",
    "pyplot.legend()\n",
    "pyplot.show()"
   ]
  },
  {
   "cell_type": "markdown",
   "metadata": {},
   "source": [
    "## 7.3 Rules of thumb for program structure and good code"
   ]
  },
  {
   "cell_type": "markdown",
   "metadata": {},
   "source": [
    "Avoid long lines; less than 79 characters per line is good. If a line is too long, it becomes hard to\n",
    "read. PEP-8 specifies this limit."
   ]
  },
  {
   "cell_type": "markdown",
   "metadata": {},
   "source": [
    "One unit of code per line. The following code is bad:"
   ]
  },
  {
   "cell_type": "code",
   "execution_count": null,
   "metadata": {},
   "outputs": [],
   "source": [
    "print('one'); print('two')\n",
    "if x == 1: print('one')\n",
    "if <complex comparison> and <other complex comparison>:\n",
    "    # do something"
   ]
  },
  {
   "cell_type": "markdown",
   "metadata": {},
   "source": [
    "The following code is much better:"
   ]
  },
  {
   "cell_type": "code",
   "execution_count": null,
   "metadata": {},
   "outputs": [],
   "source": [
    "print('one')\n",
    "print('two')\n",
    "if x == 1:\n",
    "    print('one')\n",
    "    \n",
    "cond1 = <complex comparison>\n",
    "cond2 = <other complex comparison>\n",
    "if cond1 and cond2:\n",
    "    # do something"
   ]
  },
  {
   "cell_type": "markdown",
   "metadata": {},
   "source": [
    "2. Functions:\n",
    "\n",
    "- Strive to write short functions \n",
    "- Divide up code into functions that do one thing and do it well \n",
    "  (easier to read, test, and understand)\n",
    "- Separate calculation and interaction\n",
    "- Functions should return something.\n",
    "- Functions should depend (only) on their parameters (aviod global variables)\n",
    "- Every function should have a documentation string.\n",
    "- Use informative function names (exception: main)\n",
    "    - Bad: `start`, `compute`, `f`, `foo`\n",
    "    - Good: `remove_outliers`, `newton_raphson`, `compute_integral`"
   ]
  },
  {
   "cell_type": "code",
   "execution_count": 22,
   "metadata": {},
   "outputs": [],
   "source": [
    "# Bad ex 1: depends on global variables\n",
    "b = 3\n",
    "def calc(a): # not good\n",
    "    c = (a**2 + b**2)**0.5\n",
    "    return c"
   ]
  },
  {
   "cell_type": "code",
   "execution_count": 23,
   "metadata": {},
   "outputs": [],
   "source": [
    "# Bad ex 2: no return\n",
    "def calc(a, b):\n",
    "    c = (a**2 + b**2)**0.5\n",
    "    print(c) # not good"
   ]
  },
  {
   "cell_type": "code",
   "execution_count": 24,
   "metadata": {},
   "outputs": [],
   "source": [
    "# Best: documentation\n",
    "def hypotenuse(a,b):\n",
    "    \"\"\"Computes the hypotenuse c of a triangle\n",
    "        with two perpendicular sides a and b.\n",
    "    \n",
    "    Parameters:\n",
    "    a (int): Non-negative side length of triangle\n",
    "    b (int): Non-negative side length of triangle\n",
    "    \n",
    "    Returns:\n",
    "    int: hypotenuse of \n",
    "    \"\"\"\n",
    "    c = (a**2 + b**2)**0.5\n",
    "    return c"
   ]
  },
  {
   "cell_type": "code",
   "execution_count": 25,
   "metadata": {},
   "outputs": [
    {
     "name": "stdout",
     "output_type": "stream",
     "text": [
      "This is printed!\n",
      "False\n"
     ]
    }
   ],
   "source": [
    "# Also: return a suitable datatype\n",
    "# Multiple returns practical - better than packed strings \n",
    "\n",
    "def f(x):\n",
    "\treturn '2'\n",
    "\n",
    "if f(1) == 2:\n",
    "\tprint(\"This is not printed!\")\n",
    "else:\n",
    "\tprint(\"This is printed!\")\n",
    "\n",
    "print( [1,2] == (1,2))"
   ]
  },
  {
   "cell_type": "code",
   "execution_count": null,
   "metadata": {},
   "outputs": [],
   "source": [
    "# 3. Divide code into small units, i.e., suitable functions (and modules)\n",
    "#    This is called \"modular code\": Each logical part in the code can be \n",
    "#    studied in its own context and can be combined with other parts into complex programs \n",
    "#    - more managable and understandable."
   ]
  },
  {
   "cell_type": "code",
   "execution_count": null,
   "metadata": {},
   "outputs": [],
   "source": [
    "# 4. Variables:\n",
    "#    * instead of hardcoded litterals. Ex:\n",
    "#      width , height  = 600 , 600\n",
    "#      instead of repeating these values everywhere. \n",
    "#    * Avoid global variables.\n",
    "#    * variable names: should be clear from name what it stores\n",
    "\n",
    "# Not so good\n",
    "x = 17  # critical value, abort if exceeding\n",
    "\n",
    "# Better\n",
    "critical_value = 17  # abort if exceeding\n",
    "\n",
    "# Not so good\n",
    "nc = 1.7       # normalization constant\n",
    "\n",
    "# Better\n",
    "normalization_constant = 1.7"
   ]
  },
  {
   "cell_type": "code",
   "execution_count": null,
   "metadata": {},
   "outputs": [],
   "source": [
    "# Here is an example of an unnecessarily complicated program:\n",
    "def make_complex(args):\n",
    "    x, y = args\n",
    "    d = dict()\n",
    "    d['x'] = x\n",
    "    d['y'] = y\n",
    "    return d\n"
   ]
  },
  {
   "cell_type": "code",
   "execution_count": null,
   "metadata": {},
   "outputs": [],
   "source": [
    "# Much better:\n",
    "def make_complex(x,y):\n",
    "    return {'x': x, 'y': y}"
   ]
  },
  {
   "cell_type": "markdown",
   "metadata": {},
   "source": [
    "### 7.3.2 Signs of not-so-good code"
   ]
  },
  {
   "cell_type": "code",
   "execution_count": 26,
   "metadata": {},
   "outputs": [
    {
     "name": "stdout",
     "output_type": "stream",
     "text": [
      "Start number : 99 Primes in Collatz sequence:  [149, 7, 11, 17, 13, 5, 2]\n"
     ]
    }
   ],
   "source": [
    "# * It is difficult to design good tests? Then its not modular enough. \n",
    "# Solution: refactor into better functions\n",
    "\n",
    "# * Deep indentation:  Example\n",
    "\n",
    "######## VERSION 1 ########\n",
    "\n",
    "# Print the prime numbers from a collatz sequence\n",
    "# for 100 consecutive starting numbers\n",
    "for i in range(1,100):\n",
    "    n = i\n",
    "    primes = []\n",
    "    while n != 1:\n",
    "        is_p = True\n",
    "        for x in range(2, n):\n",
    "                if not (n % x):\n",
    "                    is_p = False\n",
    "        if is_p:\n",
    "            primes.append(n)\n",
    "        if n % 2 == 0:\n",
    "            n = n//2\n",
    "        else:\n",
    "            n = 3*n + 1\n",
    "print(\"Start number :\", i, \"Primes in Collatz sequence: \", primes)"
   ]
  },
  {
   "cell_type": "code",
   "execution_count": 29,
   "metadata": {},
   "outputs": [
    {
     "name": "stdout",
     "output_type": "stream",
     "text": [
      "[149, 7, 11, 17, 13, 5, 2]\n"
     ]
    }
   ],
   "source": [
    "######## VERSION 2 ########\n",
    "\n",
    "def collatz_update(n):\n",
    "\tif n % 2 == 0:\n",
    "\t\treturn n//2\n",
    "\telse:\n",
    "\t\treturn 3*n + 1\n",
    "\n",
    "def is_prime(n):\n",
    "\tif n < 2:\n",
    "\t\treturn False\n",
    "\tif n == 2:\n",
    "\t\treturn True\n",
    "\n",
    "\tfor y in range(2,n):\n",
    "\t\tif n % y == 0:\n",
    "\t\t\treturn False\n",
    "\treturn True\n",
    "\n",
    "def collatz_primes(n):\n",
    "\t\"\"\"Computes prime numbers from the collatz sequence for an integer n.\n",
    "    \tParameters: \n",
    "\t\t    n (int): input number\n",
    "    \tReturns:\n",
    "            list: list of prime numbers in collatz sequence for n\n",
    "\t\"\"\"\n",
    "\tprimes = []\n",
    "\twhile n != 1:\n",
    "\t\tif is_prime(n):\n",
    "\t\t\tprimes.append(n)\n",
    "\t\tn = collatz_update(n)\n",
    "\treturn primes\n",
    "\n",
    "for i in range(1,100):\n",
    "\tprimes = collatz_primes(i)\n",
    "\t# print(\"Start number :\", i, \"Primes in Collatz sequence: \", primes)\n",
    "print(primes)"
   ]
  },
  {
   "cell_type": "markdown",
   "metadata": {},
   "source": [
    "## 7.4 Exercises"
   ]
  },
  {
   "cell_type": "markdown",
   "metadata": {},
   "source": [
    "1.  Importera biblioteket `random` (se <https://docs.python.org/3/library/random.html>) för att generera 10 slumpnässiga _heltal_ mellan 1 och 100 och 10 slumpnässiga _flyttal_ mellan 1 och 100.\n",
    "\n",
    "_Tips:_ Läs dokumentationen. Vilka funktioner är lämpligast att\n",
    "använda?"
   ]
  },
  {
   "cell_type": "code",
   "execution_count": 43,
   "metadata": {},
   "outputs": [
    {
     "name": "stdout",
     "output_type": "stream",
     "text": [
      "[50, 54, 66, 101, 62, 28, 37, 13, 33, 69]\n",
      "[76.03748589108994, 5.007953439896977, 49.10684195971845, 83.15543746224016, 36.446888094803846, 50.963998725921634, 14.83483271170121, 62.21853067085783, 98.73866090226828, 98.29576212772766]\n"
     ]
    }
   ],
   "source": [
    "from random import randint, uniform, seed\n",
    "seed(0) # seed for reproducibility\n",
    "\n",
    "empty_int_list = []\n",
    "empty_float_list = []\n",
    "\n",
    "for i in range(10):\n",
    "    random_int = randint(1, 101)\n",
    "    empty_int_list.append(random_int)\n",
    "    \n",
    "    #random_float = random() * 100 # same as random.uniform(1, 100)\n",
    "    random_float = uniform(1, 100)\n",
    "    empty_float_list.append(random_float)\n",
    "\n",
    "print(empty_int_list)\n",
    "print(empty_float_list)"
   ]
  },
  {
   "cell_type": "markdown",
   "metadata": {},
   "source": [
    "2. Consider the code below, which reads in an integer and decides if it is a perfect number or a prime\n",
    "number. Rewrite the code so that it has better structure.\n",
    "\n",
    "*Tip*: Divide up the code into functions. Which parts of the code can naturally be made into\n",
    "functions? What should the functions take as parameters and return so that they can be useful\n",
    "outside this module? You might want to have a main function main(x) that takes the number x as\n",
    "a parameter."
   ]
  },
  {
   "cell_type": "code",
   "execution_count": 41,
   "metadata": {},
   "outputs": [
    {
     "name": "stdout",
     "output_type": "stream",
     "text": [
      "The number is not perfect\n",
      "The number is prime\n"
     ]
    }
   ],
   "source": [
    "# checks if a number is (1) perfect (2) prime\n",
    "\n",
    "def get_sum_of_factors(x):\n",
    "    sum = 0\n",
    "    for i in range(1, x):\n",
    "        if (x % i == 0):\n",
    "            sum = sum + i\n",
    "    return sum\n",
    "\n",
    "def is_prime(x):\n",
    "\tif x < 2:\n",
    "\t\treturn False\n",
    "\tif x == 2:\n",
    "\t\treturn True\n",
    "\n",
    "\tfor y in range(2,x):\n",
    "\t\tif x % y == 0:\n",
    "\t\t\treturn False\n",
    "\treturn True\n",
    "\n",
    "def check_perfect_number(x, sum):\n",
    "    if sum == x:\n",
    "        print(\"The number is perfect\")\n",
    "    else:\n",
    "        print(\"The number is not perfect\")\n",
    "\n",
    "def check_prime_number(prime):\n",
    "    if prime:\n",
    "        print(\"The number is prime\")\n",
    "    else:\n",
    "        print(\"The number is not prime\")\n",
    "\n",
    "\n",
    "def main():\n",
    "    x = int(input(\"Provide a number to analyze: \\n\"))\n",
    "    sum = get_sum_of_factors(x)\n",
    "    prime = is_prime(x)\n",
    "    check_perfect_number(x, sum)\n",
    "    check_prime_number(prime)\n",
    "\n",
    "if __name__ == '__main__':\n",
    "    main()"
   ]
  },
  {
   "cell_type": "markdown",
   "metadata": {},
   "source": [
    "3. Adjust your restructured program from Exercise 2 to let the user decide whether to choose a\n",
    "number themselves or let the program choose one at random. Where in the program should we\n",
    "put this new code?"
   ]
  },
  {
   "cell_type": "code",
   "execution_count": 42,
   "metadata": {},
   "outputs": [
    {
     "name": "stdout",
     "output_type": "stream",
     "text": [
      "The random number is 566537776\n",
      "The number is not perfect\n",
      "The number is not prime\n"
     ]
    }
   ],
   "source": [
    "# checks if a number is (1) perfect (2) prime\n",
    "import random\n",
    "\n",
    "def get_sum_of_factors(x):\n",
    "    sum = 0\n",
    "    for i in range(1, x):\n",
    "        if (x % i == 0):\n",
    "            sum = sum + i\n",
    "    return sum\n",
    "\n",
    "def is_prime(x):\n",
    "\tif x < 2:\n",
    "\t\treturn False\n",
    "\tif x == 2:\n",
    "\t\treturn True\n",
    "\n",
    "\tfor y in range(2,x):\n",
    "\t\tif x % y == 0:\n",
    "\t\t\treturn False\n",
    "\treturn True\n",
    "\n",
    "def check_perfect_number(x, sum):\n",
    "    if sum == x:\n",
    "        print(\"The number is perfect\")\n",
    "    else:\n",
    "        print(\"The number is not perfect\")\n",
    "\n",
    "def check_prime_number(prime):\n",
    "    if prime:\n",
    "        print(\"The number is prime\")\n",
    "    else:\n",
    "        print(\"The number is not prime\")\n",
    "\n",
    "def get_user_input():\n",
    "    user_input = input(\"Provide a number to analyze or input 'r' to choose a number by random: \\n\")\n",
    "    if user_input == 'r':\n",
    "        x = random.randint(1, 1000000000)\n",
    "        print(f\"The random number is {x}\")\n",
    "    else:\n",
    "        x = int(user_input)\n",
    "    return x\n",
    "\n",
    "def main():\n",
    "    x = get_user_input()\n",
    "    sum = get_sum_of_factors(x)\n",
    "    prime = is_prime(x)\n",
    "    check_perfect_number(x, sum)\n",
    "    check_prime_number(prime)\n",
    "\n",
    "\n",
    "\n",
    "if __name__ == '__main__':\n",
    "    main()"
   ]
  },
  {
   "cell_type": "markdown",
   "metadata": {},
   "source": [
    "4. The code below reads in a DNA-string (for example 'AGCTAGCGGTAGC') and first looks for the most\n",
    "commonly occurring substring of length k. Then the program prints out the pairwise distances\n",
    "between copies of this string. For example, for 'AGCTAGCGGTAGC' and k = 3, the code below\n",
    "returns [4, 6]: there are 4 and then 6 nucleotides separating the start positions of the three occurrences of the most common substring, 'AGC'."
   ]
  },
  {
   "cell_type": "markdown",
   "metadata": {},
   "source": [
    "**Exercise**: Rewrite the program to be more readable. Which parts can be made into sensible\n",
    "functions? Make sure they both take appropriate parameters and return appropriate data structures.\n",
    "It should be possible to call any of the functions individually from another module."
   ]
  },
  {
   "cell_type": "code",
   "execution_count": 44,
   "metadata": {},
   "outputs": [
    {
     "name": "stdout",
     "output_type": "stream",
     "text": [
      "[4, 6]\n"
     ]
    }
   ],
   "source": [
    "# Given a sequence as input find distances between the copies of the most frequent substring\n",
    "\n",
    "def count_substrings(seq, k):\n",
    "    substrings = {}\n",
    "    for i in range(len(seq) - k + 1):\n",
    "     substring = seq[i: i+k]\n",
    "     if substring in substrings:\n",
    "      substrings[substring] += 1\n",
    "     else:\n",
    "      substrings[substring] = 1\n",
    "    return substrings\n",
    "\n",
    "def find_most_frequent_substring(substrings):\n",
    "    max_count = 0\n",
    "    most_freq_substring = \"\"\n",
    "    for substring, count in substrings.items():\n",
    "     if count > max_count:\n",
    "      most_freq_substring = substring\n",
    "      max_count = count\n",
    "    return most_freq_substring\n",
    "\n",
    "def get_position(seq, most_freq_substring, k):\n",
    "    positions = []\n",
    "    for i in range(len(seq) - k + 1):\n",
    "        substring = seq[i: i+k]\n",
    "        if substring == most_freq_substring:\n",
    "            positions.append(i)\n",
    "    return positions\n",
    "\n",
    "def get_distances(positions):\n",
    "    distances = []\n",
    "    for p1, p2 in zip(positions[:-1], positions[1:]):\n",
    "     distances.append(p2 - p1)\n",
    "    return distances\n",
    "\n",
    "def calculate_distances(seq, k):\n",
    "    substrings = count_substrings(seq, k)\n",
    "    most_freq_substring = find_most_frequent_substring(substrings)\n",
    "    positions = get_position(seq, most_freq_substring, k)\n",
    "    distances = get_distances(positions)\n",
    "    return distances\n",
    " \n",
    "def main():\n",
    "\tseq = input(\"Enter a dna string: \")\n",
    "\tk = 3\n",
    "\tprint(calculate_distances(seq, k))\n",
    "   \n",
    "if __name__ == '__main__':\n",
    "\tmain()"
   ]
  },
  {
   "cell_type": "code",
   "execution_count": 45,
   "metadata": {},
   "outputs": [
    {
     "name": "stdout",
     "output_type": "stream",
     "text": [
      "[(1, 2), (2, 3), (3, 4)]\n"
     ]
    }
   ],
   "source": [
    "lst = [1, 2, 3, 4] # [(1, 2), (2, 3), (3, 4)]\n",
    "# \n",
    "print(list(zip(lst[:-1], lst[1:])))"
   ]
  },
  {
   "cell_type": "markdown",
   "metadata": {},
   "source": [
    "The code `print(list(zip(lst[:-1], lst[1:])))` generates and prints a list of adjacent element pairs from the input list `lst`.\n",
    "\n",
    "#### Step-by-Step Explanation:\n",
    "1. **List Slicing**:\n",
    "   - `lst[:-1]`: Returns all elements of `lst` except the last one.\n",
    "   - `lst[1:]`: Returns all elements of `lst` except the first one.\n",
    "\n",
    "   For example, if `lst = [1, 2, 3, 4]`:\n",
    "   - `lst[:-1]` → `[1, 2, 3]`\n",
    "   - `lst[1:]` → `[2, 3, 4]`\n",
    "\n",
    "2. **Zipping Slices**:\n",
    "   - `zip(...)` pairs elements from `lst[:-1]` and `lst[1:]` index-wise:\n",
    "     ```python\n",
    "     (1, 2), (2, 3), (3, 4)  # For the example above\n",
    "     ```\n",
    "\n",
    "3. **Converting to a List**:\n",
    "   - `list(...)` converts the `zip` object into a list of tuples.\n",
    "\n",
    "4. **Result**:\n",
    "   - The final output is a list where each tuple contains consecutive elements from the original list.\n",
    "\n",
    "#### Example:\n",
    "```python\n",
    "lst = [10, 20, 30, 40]\n",
    "print(list(zip(lst[:-1], lst[1:])))  # Output: [(10, 20), (20, 30), (30, 40)]\n",
    "```\n",
    "\n",
    "#### Key Purpose:\n",
    "This pattern is often used to iterate over or analyze adjacent elements in a list (e.g., calculating differences between consecutive elements)."
   ]
  },
  {
   "cell_type": "markdown",
   "metadata": {},
   "source": [
    "5. † You have five numbers in a list `[13, 24, 42, 66, 78]` and want to calculate all the ways that\n",
    "a number can be written as a “direct concatenation” of two elements from the list; by a “direct\n",
    "concatenation” of two integers we mean for example `13, 78 -> 1378` and `66, 42 -> 6642`. \n",
    "That is, want to look at all permutations of two elements from the list and combine each\n",
    "permutation to make a number.\n",
    "\n",
    "*Tip*: Look in the standard module `itertools` for permutations. To concatenate the integers, try\n",
    "first explicitly coercing the numbers to `str`, concatenating them with the string function .join(),\n",
    "and finally coercing them back to `int`.\n",
    "The output, if all the numbers are saved in a list that is then printed, should be:\n",
    "\n",
    "`[1324, 1342, 1366, 1378, 2413, 2442, 2466, 2478, 4213, 4224, 4266, 4278, 6613,\n",
    "6624, 6642, 6678, 7813, 7824, 7842, 7866]`"
   ]
  },
  {
   "cell_type": "code",
   "execution_count": 46,
   "metadata": {},
   "outputs": [
    {
     "name": "stdout",
     "output_type": "stream",
     "text": [
      "[1324, 1342, 1366, 1378, 2413, 2442, 2466, 2478, 4213, 4224, 4266, 4278, 6613, 6624, 6642, 6678, 7813, 7824, 7842, 7866]\n"
     ]
    }
   ],
   "source": [
    "from itertools import permutations\n",
    "\n",
    "numbers = [13, 24, 42, 66, 78]\n",
    "results = []\n",
    "\n",
    "for pair in permutations(numbers, 2):\n",
    "    concatenated = int(str(pair[0]) + str(pair[1]))\n",
    "    results.append(concatenated)\n",
    "\n",
    "print(results)\n",
    "# Expected:\n",
    "# [1324, 1342, 1366, 1378, 2413, 2442, 2466, 2478, \n",
    "#  4213, 4224, 4266, 4278, 6613, 6624, 6642, 6678, \n",
    "#  7813, 7824, 7842, 7866]"
   ]
  },
  {
   "cell_type": "markdown",
   "metadata": {},
   "source": [
    "6. Rewrite lab 1 (temperature conversion) so that the functions are in a separate module with the name\n",
    "temp_functions.py and document each function with a documentation string (see chapter 2).\n",
    "The main program should import the functions in temp_functions.py and handle errors with\n",
    "try/except."
   ]
  },
  {
   "cell_type": "code",
   "execution_count": null,
   "metadata": {},
   "outputs": [
    {
     "name": "stdout",
     "output_type": "stream",
     "text": [
      "Error: Please enter a valid number.\n",
      "The temperature is 726.85 C\n",
      "Error: Please enter a valid number.\n",
      "Error: Please enter a valid number.\n",
      "Error: Please enter a valid number.\n",
      "Error: Please enter a valid number.\n",
      "Invalid choice.\n",
      "The temperature is 37.78 C\n",
      "Input temperatures: [1000.0, 100.0]\n",
      "Output temperatures: [726.85, 37.78]\n",
      "Goodbye!\n"
     ]
    }
   ],
   "source": [
    "from temp_functions import (\n",
    "    fahrenheit_to_celsius,\n",
    "    celsius_to_fahrenheit,\n",
    "    kelvin_to_celsius,\n",
    "    celsius_to_kelvin,\n",
    "    kelvin_to_fahrenheit,\n",
    "    fahrenheit_to_kelvin\n",
    ")\n",
    "\n",
    "input_temps = []\n",
    "output_temps = []\n",
    "loop = True\n",
    "\n",
    "while loop:\n",
    "    input_type = input(\"Choose input type ('K','F','C') or 'q' to quit: \")\n",
    "    if input_type == 'q':\n",
    "        loop = False\n",
    "        print(\"Input temperatures:\", input_temps)\n",
    "        print(\"Output temperatures:\", output_temps)\n",
    "        print(\"Goodbye!\")\n",
    "    else:\n",
    "        try:\n",
    "            temp = float(input(\"Enter the temperature: \"))\n",
    "            output_type = input(\"Choose output type: \")\n",
    "            if input_type == 'K' and output_type == 'F':\n",
    "                output_temp = kelvin_to_fahrenheit(temp)\n",
    "            elif input_type == 'K' and output_type == 'C':\n",
    "                output_temp = kelvin_to_celsius(temp)\n",
    "            elif input_type == 'F' and output_type == 'C':\n",
    "                output_temp = fahrenheit_to_celsius(temp)\n",
    "            elif input_type == 'F' and output_type == 'K':\n",
    "                output_temp = fahrenheit_to_kelvin(temp)\n",
    "            elif input_type == 'C' and output_type == 'F':\n",
    "                output_temp = celsius_to_fahrenheit(temp)\n",
    "            elif input_type == 'C' and output_type == 'K':\n",
    "                output_temp = celsius_to_kelvin(temp)\n",
    "            else:\n",
    "                print(\"Invalid choice.\")\n",
    "                continue\n",
    "            print(\"The temperature is\", output_temp, output_type)\n",
    "            input_temps.append(temp)\n",
    "            output_temps.append(output_temp)\n",
    "        except ValueError:\n",
    "            print(\"Error: Please enter a valid number.\")"
   ]
  }
 ],
 "metadata": {
  "kernelspec": {
   "display_name": "example",
   "language": "python",
   "name": "python3"
  },
  "language_info": {
   "codemirror_mode": {
    "name": "ipython",
    "version": 3
   },
   "file_extension": ".py",
   "mimetype": "text/x-python",
   "name": "python",
   "nbconvert_exporter": "python",
   "pygments_lexer": "ipython3",
   "version": "3.10.8"
  }
 },
 "nbformat": 4,
 "nbformat_minor": 2
}
