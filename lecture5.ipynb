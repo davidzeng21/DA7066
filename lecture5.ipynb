{
 "cells": [
  {
   "cell_type": "markdown",
   "metadata": {},
   "source": [
    "## 5.2 Data Representation"
   ]
  },
  {
   "cell_type": "markdown",
   "metadata": {},
   "source": [
    "### 5.2.6 Example: Polynomial"
   ]
  },
  {
   "cell_type": "code",
   "execution_count": 1,
   "metadata": {},
   "outputs": [],
   "source": [
    "def derivative(polynomial):\n",
    "    \"\"\"\n",
    "    This function calculates the derivative of a polynomial.\n",
    "    The 'polynomial' parameter is a list of coefficients in ascending order.\n",
    "    polynomial[0] -> constant term\n",
    "    polynomial[1] -> x\n",
    "    polynomial[2] -> x^2, etc.\n",
    "    \"\"\"\n",
    "    result = []\n",
    "    degree = 1  # This represents the power of x for each term (except the constant term)\n",
    "\n",
    "    # Start from polynomial[1:], because the derivative of a constant term is 0\n",
    "    for term in polynomial[1:]:\n",
    "        # Multiply the coefficient by its corresponding power of x\n",
    "        new_coefficient = term * degree\n",
    "        result.append(new_coefficient)\n",
    "        degree += 1  # Move to the next power for the next term\n",
    "\n",
    "    return result"
   ]
  },
  {
   "cell_type": "code",
   "execution_count": 2,
   "metadata": {},
   "outputs": [
    {
     "data": {
      "text/plain": [
       "[-2, 6]"
      ]
     },
     "execution_count": 2,
     "metadata": {},
     "output_type": "execute_result"
    }
   ],
   "source": [
    "derivative([1, -2, 3])"
   ]
  },
  {
   "cell_type": "markdown",
   "metadata": {},
   "source": [
    "## 5.3 Debugging"
   ]
  },
  {
   "cell_type": "markdown",
   "metadata": {},
   "source": [
    "### 5.3.1 Examples of Errors"
   ]
  },
  {
   "cell_type": "markdown",
   "metadata": {},
   "source": [
    "#### 5.3.1.1 Sorting Issues"
   ]
  },
  {
   "cell_type": "code",
   "execution_count": 5,
   "metadata": {},
   "outputs": [
    {
     "ename": "TypeError",
     "evalue": "'NoneType' object is not iterable",
     "output_type": "error",
     "traceback": [
      "\u001b[1;31m---------------------------------------------------------------------------\u001b[0m",
      "\u001b[1;31mTypeError\u001b[0m                                 Traceback (most recent call last)",
      "Cell \u001b[1;32mIn[5], line 3\u001b[0m\n\u001b[0;32m      1\u001b[0m lst \u001b[38;5;241m=\u001b[39m [\u001b[38;5;241m10\u001b[39m, \u001b[38;5;241m3\u001b[39m, \u001b[38;5;241m4\u001b[39m]\n\u001b[0;32m      2\u001b[0m lst \u001b[38;5;241m=\u001b[39m lst\u001b[38;5;241m.\u001b[39msort()\n\u001b[1;32m----> 3\u001b[0m \u001b[38;5;28;01mfor\u001b[39;00m elem \u001b[38;5;129;01min\u001b[39;00m lst:\n\u001b[0;32m      4\u001b[0m     \u001b[38;5;28mprint\u001b[39m(elem)\n",
      "\u001b[1;31mTypeError\u001b[0m: 'NoneType' object is not iterable"
     ]
    }
   ],
   "source": [
    "lst = [10, 3, 4]\n",
    "lst = lst.sort()\n",
    "for elem in lst:\n",
    "    print(elem)"
   ]
  },
  {
   "cell_type": "markdown",
   "metadata": {},
   "source": [
    "Note that the error is made on line two but detected on line three. This is common: when we observe errors, they are often symptoms of mistakes made earlier. One way to correct the above error is to switch to the sorted function."
   ]
  },
  {
   "cell_type": "code",
   "execution_count": 6,
   "metadata": {},
   "outputs": [
    {
     "name": "stdout",
     "output_type": "stream",
     "text": [
      "3\n",
      "4\n",
      "10\n"
     ]
    }
   ],
   "source": [
    "lst = [10, 3, 4]\n",
    "lst.sort() # or lst = sorted(lst)\n",
    "for elem in lst:\n",
    "    print(elem)"
   ]
  },
  {
   "cell_type": "markdown",
   "metadata": {},
   "source": [
    "#### 5.3.1.2 Example: Poor Return Value"
   ]
  },
  {
   "cell_type": "code",
   "execution_count": 7,
   "metadata": {},
   "outputs": [
    {
     "name": "stdout",
     "output_type": "stream",
     "text": [
      "[4, 5, 10]\n"
     ]
    }
   ],
   "source": [
    "lst = [10,3,4,5,1,2]\n",
    "lst = sorted(lst)\n",
    "print(lst[-3:])"
   ]
  },
  {
   "cell_type": "code",
   "execution_count": 11,
   "metadata": {},
   "outputs": [
    {
     "name": "stdout",
     "output_type": "stream",
     "text": [
      "[4, 5, 10]\n"
     ]
    },
    {
     "ename": "TypeError",
     "evalue": "cannot unpack non-iterable NoneType object",
     "output_type": "error",
     "traceback": [
      "\u001b[1;31m---------------------------------------------------------------------------\u001b[0m",
      "\u001b[1;31mTypeError\u001b[0m                                 Traceback (most recent call last)",
      "Cell \u001b[1;32mIn[11], line 5\u001b[0m\n\u001b[0;32m      2\u001b[0m     lst \u001b[38;5;241m=\u001b[39m \u001b[38;5;28msorted\u001b[39m(lst)\n\u001b[0;32m      3\u001b[0m     \u001b[38;5;28mprint\u001b[39m(lst[\u001b[38;5;241m-\u001b[39m\u001b[38;5;241m3\u001b[39m:])\n\u001b[1;32m----> 5\u001b[0m a, b, c \u001b[38;5;241m=\u001b[39m largest_three([\u001b[38;5;241m10\u001b[39m,\u001b[38;5;241m3\u001b[39m,\u001b[38;5;241m4\u001b[39m,\u001b[38;5;241m5\u001b[39m,\u001b[38;5;241m1\u001b[39m,\u001b[38;5;241m2\u001b[39m])\n",
      "\u001b[1;31mTypeError\u001b[0m: cannot unpack non-iterable NoneType object"
     ]
    }
   ],
   "source": [
    "def largest_three(lst):\n",
    "    lst = sorted(lst)\n",
    "    print(lst[-3:])\n",
    "\n",
    "a, b, c = largest_three([10,3,4,5,1,2])"
   ]
  },
  {
   "cell_type": "code",
   "execution_count": 12,
   "metadata": {},
   "outputs": [],
   "source": [
    "def largest_three(lst):\n",
    "    lst = sorted(lst)\n",
    "    \n",
    "    return lst[-3:]\n",
    "\n",
    "a, b, c = largest_three([10,3,4,5,1,2])"
   ]
  },
  {
   "cell_type": "code",
   "execution_count": 13,
   "metadata": {},
   "outputs": [
    {
     "name": "stdout",
     "output_type": "stream",
     "text": [
      "4 5 10\n"
     ]
    }
   ],
   "source": [
    "print(a, b, c)"
   ]
  },
  {
   "cell_type": "markdown",
   "metadata": {},
   "source": [
    "#### 5.3.1.3 Example: Iterators are not Lists"
   ]
  },
  {
   "cell_type": "code",
   "execution_count": null,
   "metadata": {},
   "outputs": [
    {
     "name": "stdout",
     "output_type": "stream",
     "text": [
      "Largest: 10\n"
     ]
    }
   ],
   "source": [
    "lst = [10, 3, 4]\n",
    "lst = reversed(lst)\n",
    "for elem in lst:\n",
    "    print(elem)\n",
    "print('Largest:', max(lst))"
   ]
  },
  {
   "cell_type": "markdown",
   "metadata": {},
   "source": [
    "`reversed` returns an iterator, which is used only once. When the for loop is done, the iterator is “consumed” and `max` has nothing to work with."
   ]
  },
  {
   "cell_type": "code",
   "execution_count": 25,
   "metadata": {},
   "outputs": [
    {
     "name": "stdout",
     "output_type": "stream",
     "text": [
      "4\n",
      "3\n",
      "10\n",
      "Largest: 10\n"
     ]
    }
   ],
   "source": [
    "lst = [10, 3, 4]\n",
    "lst = reversed(lst)\n",
    "lst = list(lst)\n",
    "\n",
    "for elem in lst:\n",
    "    print(elem)\n",
    "\n",
    "print('Largest:', max(lst))"
   ]
  },
  {
   "cell_type": "code",
   "execution_count": 10,
   "metadata": {},
   "outputs": [
    {
     "name": "stdout",
     "output_type": "stream",
     "text": [
      "d\n",
      "l\n",
      "r\n",
      "o\n",
      "W\n",
      " \n",
      "o\n",
      "l\n",
      "l\n",
      "e\n",
      "H\n"
     ]
    }
   ],
   "source": [
    "string = 'Hello World'\n",
    "rts = reversed(string)\n",
    "\n",
    "\n",
    "while True:\n",
    "    try:\n",
    "        # 获得下一个值:\n",
    "        print(next(rts))\n",
    "    except StopIteration:\n",
    "        # 遇到StopIteration就退出循环\n",
    "        break\n",
    "\n"
   ]
  },
  {
   "cell_type": "code",
   "execution_count": 17,
   "metadata": {},
   "outputs": [
    {
     "data": {
      "text/plain": [
       "[100,\n",
       " 95,\n",
       " 90,\n",
       " 85,\n",
       " 80,\n",
       " 75,\n",
       " 70,\n",
       " 65,\n",
       " 60,\n",
       " 55,\n",
       " 50,\n",
       " 45,\n",
       " 40,\n",
       " 35,\n",
       " 30,\n",
       " 25,\n",
       " 20,\n",
       " 15,\n",
       " 10,\n",
       " 5,\n",
       " 0]"
      ]
     },
     "execution_count": 17,
     "metadata": {},
     "output_type": "execute_result"
    }
   ],
   "source": [
    "L = list(range(101))\n",
    "\n",
    "L[::-5]"
   ]
  },
  {
   "cell_type": "markdown",
   "metadata": {},
   "source": [
    "### 5.3.2 Understanding the Error Message"
   ]
  },
  {
   "cell_type": "code",
   "execution_count": 28,
   "metadata": {},
   "outputs": [
    {
     "name": "stdout",
     "output_type": "stream",
     "text": [
      "Error: Division by zero\n"
     ]
    }
   ],
   "source": [
    "def f1(x):\n",
    "\treturn f2(x)\n",
    "\n",
    "def f2(x):\n",
    "\treturn f3(x)\n",
    "\n",
    "def f3(x):\n",
    "\tif x == 0:\n",
    "\t\treturn \"Error: Division by zero\"\n",
    "\treturn 17 / x\n",
    "\n",
    "print(f1(0))\n"
   ]
  },
  {
   "cell_type": "markdown",
   "metadata": {},
   "source": [
    "### 5.3.3 Troubleshooting with Trace Prints"
   ]
  },
  {
   "cell_type": "code",
   "execution_count": 32,
   "metadata": {},
   "outputs": [],
   "source": [
    "def derivative(polynomial):\n",
    "    result = []\n",
    "    degree = 1\n",
    "    print('degree term new_coefficient') # Practical header\n",
    "    for term in polynomial: # Error!\n",
    "        new_coefficient = term * degree\n",
    "        print(degree, term, new_coefficient) # Trace Prints\n",
    "        result.append(new_coefficient)\n",
    "        degree += 1\n",
    "\n",
    "    return result"
   ]
  },
  {
   "cell_type": "code",
   "execution_count": 33,
   "metadata": {},
   "outputs": [
    {
     "name": "stdout",
     "output_type": "stream",
     "text": [
      "degree term new_coefficient\n",
      "1 -2 -2\n",
      "2 3 6\n"
     ]
    },
    {
     "data": {
      "text/plain": [
       "[-2, 6]"
      ]
     },
     "execution_count": 33,
     "metadata": {},
     "output_type": "execute_result"
    }
   ],
   "source": [
    "derivative([1, -2, 3])"
   ]
  },
  {
   "cell_type": "code",
   "execution_count": 38,
   "metadata": {},
   "outputs": [],
   "source": [
    "def derivative(polynomial):\n",
    "    result = []\n",
    "    degree = 1\n",
    "    for term in polynomial: # Error!\n",
    "        new_coefficient = term * degree\n",
    "        print(f'{degree=}, {term=}, {new_coefficient=}') # Trace Prints\n",
    "        result.append(new_coefficient)\n",
    "        degree += 1\n",
    "\n",
    "    return result"
   ]
  },
  {
   "cell_type": "code",
   "execution_count": 39,
   "metadata": {},
   "outputs": [
    {
     "name": "stdout",
     "output_type": "stream",
     "text": [
      "degree=1, term=1, new_coefficient=1\n",
      "degree=2, term=1, new_coefficient=2\n",
      "degree=3, term=1, new_coefficient=3\n"
     ]
    },
    {
     "data": {
      "text/plain": [
       "[1, 2, 3]"
      ]
     },
     "execution_count": 39,
     "metadata": {},
     "output_type": "execute_result"
    }
   ],
   "source": [
    "derivative([1,1,1])"
   ]
  },
  {
   "cell_type": "markdown",
   "metadata": {},
   "source": [
    "#### 5.3.3.1 Logging"
   ]
  },
  {
   "cell_type": "code",
   "execution_count": 44,
   "metadata": {},
   "outputs": [
    {
     "name": "stdout",
     "output_type": "stream",
     "text": [
      "degree=1, term=1, new_coefficient=1\n",
      "degree=2, term=1, new_coefficient=2\n",
      "degree=3, term=1, new_coefficient=3\n"
     ]
    },
    {
     "data": {
      "text/plain": [
       "[1, 2, 3]"
      ]
     },
     "execution_count": 44,
     "metadata": {},
     "output_type": "execute_result"
    }
   ],
   "source": [
    "import logging\n",
    "logging.basicConfig(filename='derivative.log', level=logging.DEBUG)\n",
    "def derivative(polynomial):\n",
    "    result = []\n",
    "    degree = 1\n",
    "    for term in polynomial: # Error!\n",
    "        new_coefficient = term * degree\n",
    "        print(f'{degree=}, {term=}, {new_coefficient=}') # Trace Prints\n",
    "        result.append(new_coefficient)\n",
    "        degree += 1\n",
    "\n",
    "    return result\n",
    "\n",
    "derivative([1, 1, 1])"
   ]
  },
  {
   "cell_type": "code",
   "execution_count": 41,
   "metadata": {},
   "outputs": [
    {
     "name": "stdout",
     "output_type": "stream",
     "text": [
      "degree=1, term=1, new_coefficient=1\n",
      "degree=2, term=1, new_coefficient=2\n",
      "degree=3, term=1, new_coefficient=3\n"
     ]
    },
    {
     "data": {
      "text/plain": [
       "[1, 2, 3]"
      ]
     },
     "execution_count": 41,
     "metadata": {},
     "output_type": "execute_result"
    }
   ],
   "source": []
  },
  {
   "cell_type": "markdown",
   "metadata": {},
   "source": [
    "## 5.4 Exercise"
   ]
  },
  {
   "cell_type": "markdown",
   "metadata": {},
   "source": [
    "### 1. The buggy all_zero function."
   ]
  },
  {
   "cell_type": "code",
   "execution_count": 59,
   "metadata": {},
   "outputs": [],
   "source": [
    "def all_zero(p_list):\n",
    "    \"\"\" Check if all elements are zero.\n",
    "    :param p_list: list of integers\n",
    "    :return: boolean\n",
    "    \"\"\"\n",
    "    for x in p_list:\n",
    "        if x != 0:\n",
    "            return \"False\"\n",
    "        else:\n",
    "            return \"True\""
   ]
  },
  {
   "cell_type": "code",
   "execution_count": 63,
   "metadata": {},
   "outputs": [
    {
     "name": "stdout",
     "output_type": "stream",
     "text": [
      "True\n"
     ]
    }
   ],
   "source": [
    "print(all_zero([0, 1, 0, 0, 0]))"
   ]
  },
  {
   "cell_type": "markdown",
   "metadata": {},
   "source": [
    "What are the bugs in this code?\n",
    "\n",
    "The function returns the boolean value of the first element in the list, rather than considering the whole list.\n",
    "\n",
    "\n",
    "How can we fix the bugs?\n",
    "\n",
    "We can put `return TRUE` out of the for loop.\n"
   ]
  },
  {
   "cell_type": "code",
   "execution_count": 66,
   "metadata": {},
   "outputs": [],
   "source": [
    "def all_zero(p_list):\n",
    "    \"\"\" Check if all elements are zero.\n",
    "    :param p_list: list of integers\n",
    "    :return: boolean\n",
    "    \"\"\"\n",
    "    for x in p_list:\n",
    "        if x != 0:\n",
    "            return \"False\"\n",
    "    \n",
    "    return \"True\""
   ]
  },
  {
   "cell_type": "code",
   "execution_count": 67,
   "metadata": {},
   "outputs": [
    {
     "name": "stdout",
     "output_type": "stream",
     "text": [
      "False\n"
     ]
    }
   ],
   "source": [
    "print(all_zero([0, 1, 0, 0, 0]))"
   ]
  },
  {
   "cell_type": "markdown",
   "metadata": {},
   "source": [
    "### 2. The buggy add_hyphens function."
   ]
  },
  {
   "cell_type": "code",
   "execution_count": 74,
   "metadata": {},
   "outputs": [
    {
     "ename": "TypeError",
     "evalue": "'str' object cannot be interpreted as an integer",
     "output_type": "error",
     "traceback": [
      "\u001b[1;31m---------------------------------------------------------------------------\u001b[0m",
      "\u001b[1;31mTypeError\u001b[0m                                 Traceback (most recent call last)",
      "Cell \u001b[1;32mIn[74], line 19\u001b[0m\n\u001b[0;32m     16\u001b[0m         new_text \u001b[38;5;241m=\u001b[39m text[idx] \u001b[38;5;241m+\u001b[39m \u001b[38;5;124m\"\u001b[39m\u001b[38;5;124m-\u001b[39m\u001b[38;5;124m\"\u001b[39m\n\u001b[0;32m     17\u001b[0m     \u001b[38;5;28;01mreturn\u001b[39;00m new_text\n\u001b[1;32m---> 19\u001b[0m \u001b[38;5;28mprint\u001b[39m(\u001b[43madd_hyphens\u001b[49m\u001b[43m(\u001b[49m\u001b[38;5;124;43m\"\u001b[39;49m\u001b[38;5;124;43mhello\u001b[39;49m\u001b[38;5;124;43m\"\u001b[39;49m\u001b[43m)\u001b[49m)\n",
      "Cell \u001b[1;32mIn[74], line 8\u001b[0m, in \u001b[0;36madd_hyphens\u001b[1;34m(text)\u001b[0m\n\u001b[0;32m      2\u001b[0m \u001b[38;5;124;03m\"\"\" Adds a hyphen between letters\u001b[39;00m\n\u001b[0;32m      3\u001b[0m \u001b[38;5;124;03m:param text: string\u001b[39;00m\n\u001b[0;32m      4\u001b[0m \u001b[38;5;124;03m:return: string\u001b[39;00m\n\u001b[0;32m      5\u001b[0m \u001b[38;5;124;03m\"\"\"\u001b[39;00m\n\u001b[0;32m      6\u001b[0m new_text \u001b[38;5;241m=\u001b[39m \u001b[38;5;124m\"\u001b[39m\u001b[38;5;124m \u001b[39m\u001b[38;5;124m\"\u001b[39m\n\u001b[1;32m----> 8\u001b[0m \u001b[38;5;28;01mfor\u001b[39;00m idx \u001b[38;5;129;01min\u001b[39;00m \u001b[38;5;28;43mrange\u001b[39;49m\u001b[43m(\u001b[49m\u001b[43mtext\u001b[49m\u001b[43m)\u001b[49m:\n\u001b[0;32m      9\u001b[0m     \u001b[38;5;28;01mif\u001b[39;00m idx \u001b[38;5;241m==\u001b[39m \u001b[38;5;241m0\u001b[39m:\n\u001b[0;32m     10\u001b[0m         \u001b[38;5;66;03m# add first letter\u001b[39;00m\n\u001b[0;32m     11\u001b[0m         new_text \u001b[38;5;241m=\u001b[39m text[idx] \u001b[38;5;241m+\u001b[39m \u001b[38;5;124m\"\u001b[39m\u001b[38;5;124m-\u001b[39m\u001b[38;5;124m\"\u001b[39m\n",
      "\u001b[1;31mTypeError\u001b[0m: 'str' object cannot be interpreted as an integer"
     ]
    }
   ],
   "source": [
    "def add_hyphens(text):\n",
    "    \"\"\" Adds a hyphen between letters\n",
    "    :param text: string\n",
    "    :return: string\n",
    "    \"\"\"\n",
    "    new_text = \" \"\n",
    "\n",
    "    for idx in range(text):\n",
    "        if idx == 0:\n",
    "            # add first letter\n",
    "            new_text = text[idx] + \"-\"\n",
    "        elif idx == len(text):\n",
    "            # add last letter\n",
    "            new_text = text[idx]\n",
    "\n",
    "        new_text = text[idx] + \"-\"\n",
    "    return new_text\n",
    "\n",
    "print(add_hyphens(\"hello\"))"
   ]
  },
  {
   "cell_type": "markdown",
   "metadata": {},
   "source": [
    "What are the bugs in this code?\n",
    "\n",
    "The error occurs because `range(text)` is incorrect. range expects an integer, but text is a string. You should use `range(len(text))` instead. Additionally, there are some logical errors in the code that need to be fixed."
   ]
  },
  {
   "cell_type": "code",
   "execution_count": 75,
   "metadata": {},
   "outputs": [
    {
     "name": "stdout",
     "output_type": "stream",
     "text": [
      "h-e-l-l-o\n"
     ]
    }
   ],
   "source": [
    "def add_hyphens(text):\n",
    "    \"\"\" Adds a hyphen between letters\n",
    "    :param text: string\n",
    "    :return: string\n",
    "    \"\"\"\n",
    "    new_text = \"\"\n",
    "\n",
    "    for idx in range(len(text)):\n",
    "        if idx == len(text) - 1:\n",
    "            # add last letter without hyphen\n",
    "            new_text += text[idx]\n",
    "        else:\n",
    "            # add letter with hyphen\n",
    "            new_text += text[idx] + \"-\"\n",
    "    return new_text\n",
    "\n",
    "print(add_hyphens(\"hello\"))"
   ]
  }
 ],
 "metadata": {
  "kernelspec": {
   "display_name": "example",
   "language": "python",
   "name": "python3"
  },
  "language_info": {
   "codemirror_mode": {
    "name": "ipython",
    "version": 3
   },
   "file_extension": ".py",
   "mimetype": "text/x-python",
   "name": "python",
   "nbconvert_exporter": "python",
   "pygments_lexer": "ipython3",
   "version": "3.10.8"
  }
 },
 "nbformat": 4,
 "nbformat_minor": 2
}
